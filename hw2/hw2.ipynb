{
 "cells": [
  {
   "cell_type": "code",
   "execution_count": 1,
   "id": "77c11901",
   "metadata": {},
   "outputs": [],
   "source": [
    "import numpy as np\n",
    "import pandas as pd\n",
    "from sklearn.metrics import accuracy_score\n",
    "from sklearn.model_selection import train_test_split\n",
    "import matplotlib.pyplot as plt\n",
    "from random import sample, seed"
   ]
  },
  {
   "cell_type": "code",
   "execution_count": 2,
   "id": "3f0c512b",
   "metadata": {},
   "outputs": [],
   "source": [
    "data = pd.read_csv('https://gist.githubusercontent.com/netj/8836201/raw/6f9306ad21398ea43cba4f7d537619d0e07d5ae3/iris.csv')\n",
    "data = data.loc[data['variety'] != 'Setosa']"
   ]
  },
  {
   "cell_type": "code",
   "execution_count": 3,
   "id": "cf898713",
   "metadata": {},
   "outputs": [
    {
     "data": {
      "text/html": [
       "<div>\n",
       "<style scoped>\n",
       "    .dataframe tbody tr th:only-of-type {\n",
       "        vertical-align: middle;\n",
       "    }\n",
       "\n",
       "    .dataframe tbody tr th {\n",
       "        vertical-align: top;\n",
       "    }\n",
       "\n",
       "    .dataframe thead th {\n",
       "        text-align: right;\n",
       "    }\n",
       "</style>\n",
       "<table border=\"1\" class=\"dataframe\">\n",
       "  <thead>\n",
       "    <tr style=\"text-align: right;\">\n",
       "      <th></th>\n",
       "      <th>sepal.length</th>\n",
       "      <th>sepal.width</th>\n",
       "      <th>petal.length</th>\n",
       "      <th>petal.width</th>\n",
       "      <th>variety</th>\n",
       "    </tr>\n",
       "  </thead>\n",
       "  <tbody>\n",
       "    <tr>\n",
       "      <th>50</th>\n",
       "      <td>7.0</td>\n",
       "      <td>3.2</td>\n",
       "      <td>4.7</td>\n",
       "      <td>1.4</td>\n",
       "      <td>Versicolor</td>\n",
       "    </tr>\n",
       "    <tr>\n",
       "      <th>51</th>\n",
       "      <td>6.4</td>\n",
       "      <td>3.2</td>\n",
       "      <td>4.5</td>\n",
       "      <td>1.5</td>\n",
       "      <td>Versicolor</td>\n",
       "    </tr>\n",
       "    <tr>\n",
       "      <th>52</th>\n",
       "      <td>6.9</td>\n",
       "      <td>3.1</td>\n",
       "      <td>4.9</td>\n",
       "      <td>1.5</td>\n",
       "      <td>Versicolor</td>\n",
       "    </tr>\n",
       "    <tr>\n",
       "      <th>53</th>\n",
       "      <td>5.5</td>\n",
       "      <td>2.3</td>\n",
       "      <td>4.0</td>\n",
       "      <td>1.3</td>\n",
       "      <td>Versicolor</td>\n",
       "    </tr>\n",
       "    <tr>\n",
       "      <th>54</th>\n",
       "      <td>6.5</td>\n",
       "      <td>2.8</td>\n",
       "      <td>4.6</td>\n",
       "      <td>1.5</td>\n",
       "      <td>Versicolor</td>\n",
       "    </tr>\n",
       "  </tbody>\n",
       "</table>\n",
       "</div>"
      ],
      "text/plain": [
       "    sepal.length  sepal.width  petal.length  petal.width     variety\n",
       "50           7.0          3.2           4.7          1.4  Versicolor\n",
       "51           6.4          3.2           4.5          1.5  Versicolor\n",
       "52           6.9          3.1           4.9          1.5  Versicolor\n",
       "53           5.5          2.3           4.0          1.3  Versicolor\n",
       "54           6.5          2.8           4.6          1.5  Versicolor"
      ]
     },
     "metadata": {},
     "output_type": "display_data"
    },
    {
     "data": {
      "text/plain": [
       "(100, 5)"
      ]
     },
     "metadata": {},
     "output_type": "display_data"
    }
   ],
   "source": [
    "display(data.head())\n",
    "display(data.shape)"
   ]
  },
  {
   "cell_type": "code",
   "execution_count": 4,
   "id": "cf3d7798",
   "metadata": {},
   "outputs": [],
   "source": [
    "data['variety'] = data['variety'].map({'Versicolor': 0, 'Virginica': 1})\n",
    "y = np.array(data['variety'])\n",
    "X = np.array(data.drop(['variety'], axis = 1))\n",
    "\n",
    "EPOCHS = 1000\n",
    "LEARNING_RATE = 0.01"
   ]
  },
  {
   "cell_type": "code",
   "execution_count": 6,
   "id": "fee49404",
   "metadata": {},
   "outputs": [],
   "source": [
    "# Сигмоида\n",
    "def sigmoid(z):\n",
    "    return 1 / (1 + np.exp(-z))"
   ]
  },
  {
   "cell_type": "code",
   "execution_count": 5,
   "id": "5b10b0d5",
   "metadata": {},
   "outputs": [],
   "source": [
    "# Бинарная кросс-энтропия (Функция потерь)\n",
    "def cost_function(y, y_pred):\n",
    "    eps = 1e-6    \n",
    "    err = - np.mean(y * np.log(y_pred + eps) + (1 - y + eps) * np.log(1 - y_pred + eps))\n",
    "    err = np.sum(err)\n",
    "    return err"
   ]
  },
  {
   "cell_type": "code",
   "execution_count": 7,
   "id": "fd6ad42b",
   "metadata": {},
   "outputs": [],
   "source": [
    "# Функции для градиентов. Для каждого признака\n",
    "def theta0(X, y, theta0, theta1, theta2, theta3, theta4):\n",
    "    total_cost = 0\n",
    "    for i in range(len(X)):\n",
    "        total_cost += (sigmoid(theta0 + theta1*X[i,0] + theta2*X[i,1] + theta3*X[i,2] + theta4*X[i,3]) - y[i])\n",
    "    return total_cost / (len(X)) \n",
    "\n",
    "def theta1(X, y, theta0, theta1, theta2, theta3, theta4):\n",
    "    total_cost = 0\n",
    "    for i in range(len(X)):\n",
    "        total_cost += (sigmoid(theta0 + theta1*X[i,0] + theta2*X[i,1] + theta3*X[i,2] + theta4*X[i,3]) - y[i]) * X[i,0]\n",
    "    return total_cost / (len(X))\n",
    "\n",
    "def theta2(X, y, theta0, theta1, theta2, theta3, theta4):\n",
    "    total_cost = 0\n",
    "    for i in range(len(X)):\n",
    "        total_cost += (sigmoid(theta0 + theta1*X[i,0] + theta2*X[i,1] + theta3*X[i,2] + theta4*X[i,3]) - y[i]) * X[i,1]\n",
    "    return total_cost / (len(X))\n",
    "\n",
    "def der_theta3(X, y, theta0, theta1, theta2, theta3, theta4):\n",
    "    total_cost = 0\n",
    "    for i in range(len(X)):\n",
    "        total_cost += (sigmoid(theta0 + theta1*X[i,0] + theta2*X[i,1] + theta3*X[i,2] + theta4*X[i,3]) - y[i]) * X[i,2]\n",
    "    return total_cost / (len(X))\n",
    "\n",
    "def der_theta4(X, y, theta0, theta1, theta2, theta3, theta4):\n",
    "    total_cost = 0\n",
    "    for i in range(len(X)):\n",
    "        total_cost += (sigmoid(theta0 + theta1*X[i,0] + theta2*X[i,1] + theta3*X[i,2] + theta4*X[i,3]) - y[i]) * X[i,3]\n",
    "    return total_cost / (len(X))"
   ]
  },
  {
   "cell_type": "code",
   "execution_count": 8,
   "id": "a5689362",
   "metadata": {},
   "outputs": [],
   "source": [
    "def train(X, y, lr = LEARNING_RATE, epochs = EPOCHS ):\n",
    "    theta0, theta1, theta2, theta3, theta4 = 1, 1, 1, 1, 1 # Задаем начальные веса\n",
    "    costs = []\n",
    "    for _ in range(epochs): \n",
    "        \n",
    "        # Вычисляем градиенты\n",
    "        dt0 = theta0(X, y, theta0, theta1, theta2, theta3, theta4)\n",
    "        dt1 = theta1(X, y, theta0, theta1, theta2, theta3, theta4)\n",
    "        dt2 = theta2(X, y, theta0, theta1, theta2, theta3, theta4)\n",
    "        dt3 = theta3(X, y, theta0, theta1, theta2, theta3, theta4)\n",
    "        dt4 = theta4(X, y, theta0, theta1, theta2, theta3, theta4)\n",
    "        \n",
    "        # Обновляем веса на шаг   \n",
    "        theta0 -= lr * dt0\n",
    "        theta1 -= lr * dt1\n",
    "        theta2 -= lr * dt2\n",
    "        theta3 -= lr * dt3\n",
    "        theta4 -= lr * dt4\n",
    "        \n",
    "        # Рассчитываем потери\n",
    "        y_pred = sigmoid(theta0 + theta1*X[:,0] + theta2*X[:,1] + theta3*X[:,2] + theta4*X[:,3])\n",
    "        cost = cost_function(y, y_pred)\n",
    "        costs.append(cost)\n",
    "        \n",
    "    plt.plot(range(epochs), costs)\n",
    "    plt.xlabel(\"epoch\")\n",
    "    plt.ylabel(\"cost\")\n",
    "    plt.title(\"cost curve\")\n",
    "    return theta0, theta1, theta2, theta3, theta4"
   ]
  },
  {
   "cell_type": "code",
   "execution_count": 10,
   "id": "05ef0abf",
   "metadata": {},
   "outputs": [
    {
     "data": {
      "image/png": "[encoded data removed]",
      "text/plain": [
       "<Figure size 432x288 with 1 Axes>"
      ]
     },
     "metadata": {
      "needs_background": "light"
     },
     "output_type": "display_data"
    }
   ],
   "source": [
    "theta0, theta1, theta2, theta3, theta4 = train(X, y)"
   ]
  },
  {
   "cell_type": "code",
   "execution_count": 11,
   "id": "bf6c55c5",
   "metadata": {},
   "outputs": [
    {
     "data": {
      "text/plain": [
       "0.95"
      ]
     },
     "execution_count": 11,
     "metadata": {},
     "output_type": "execute_result"
    }
   ],
   "source": [
    "y_pred = sigmoid(theta0 + theta1*X[:,0] + theta2*X[:,1] + theta3*X[:,2] + theta4*X[:,3])\n",
    "y_pred = [0 if y < 0.5 else 1 for y in y_pred]\n",
    "accuracy_score(y, y_pred)"
   ]
  }
 ],
 "metadata": {
  "kernelspec": {
   "display_name": "Python 3 (ipykernel)",
   "language": "python",
   "name": "python3"
  },
  "language_info": {
   "codemirror_mode": {
    "name": "ipython",
    "version": 3
   },
   "file_extension": ".py",
   "mimetype": "text/x-python",
   "name": "python",
   "nbconvert_exporter": "python",
   "pygments_lexer": "ipython3",
   "version": "3.9.7"
  }
 },
 "nbformat": 4,
 "nbformat_minor": 5
}
