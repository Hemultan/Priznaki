{
 "cells": [
  {
   "cell_type": "code",
   "execution_count": 26,
   "id": "6b4264d7",
   "metadata": {},
   "outputs": [],
   "source": [
    "import pandas as pd\n",
    "import numpy as np\n",
    "import seaborn as sns\n",
    "from matplotlib import pyplot as plt\n",
    " \n",
    "from sklearn.linear_model import LinearRegression\n",
    "from sklearn.model_selection import train_test_split\n",
    "from sklearn.preprocessing import StandardScaler\n",
    "\n",
    "from sklearn.metrics import mean_squared_error, r2_score\n",
    "\n",
    "from pylab import rcParams\n",
    "rcParams['figure.figsize'] = 15, 10"
   ]
  },
  {
   "cell_type": "markdown",
   "id": "08d55ec4",
   "metadata": {},
   "source": [
    "### 1. Получите данные и загрузите их в рабочую среду. (Jupyter Notebook или другую).\n"
   ]
  },
  {
   "cell_type": "code",
   "execution_count": 3,
   "id": "f00ff610",
   "metadata": {},
   "outputs": [
    {
     "data": {
      "text/html": [
       "<div>\n",
       "<style scoped>\n",
       "    .dataframe tbody tr th:only-of-type {\n",
       "        vertical-align: middle;\n",
       "    }\n",
       "\n",
       "    .dataframe tbody tr th {\n",
       "        vertical-align: top;\n",
       "    }\n",
       "\n",
       "    .dataframe thead th {\n",
       "        text-align: right;\n",
       "    }\n",
       "</style>\n",
       "<table border=\"1\" class=\"dataframe\">\n",
       "  <thead>\n",
       "    <tr style=\"text-align: right;\">\n",
       "      <th></th>\n",
       "      <th>MedInc</th>\n",
       "      <th>HouseAge</th>\n",
       "      <th>AveRooms</th>\n",
       "      <th>AveBedrms</th>\n",
       "      <th>Population</th>\n",
       "      <th>AveOccup</th>\n",
       "      <th>Latitude</th>\n",
       "      <th>Longitude</th>\n",
       "      <th>MedHouseVal</th>\n",
       "    </tr>\n",
       "  </thead>\n",
       "  <tbody>\n",
       "    <tr>\n",
       "      <th>0</th>\n",
       "      <td>8.3252</td>\n",
       "      <td>41.0</td>\n",
       "      <td>6.984127</td>\n",
       "      <td>1.023810</td>\n",
       "      <td>322.0</td>\n",
       "      <td>2.555556</td>\n",
       "      <td>37.88</td>\n",
       "      <td>-122.23</td>\n",
       "      <td>4.526</td>\n",
       "    </tr>\n",
       "    <tr>\n",
       "      <th>1</th>\n",
       "      <td>8.3014</td>\n",
       "      <td>21.0</td>\n",
       "      <td>6.238137</td>\n",
       "      <td>0.971880</td>\n",
       "      <td>2401.0</td>\n",
       "      <td>2.109842</td>\n",
       "      <td>37.86</td>\n",
       "      <td>-122.22</td>\n",
       "      <td>3.585</td>\n",
       "    </tr>\n",
       "    <tr>\n",
       "      <th>2</th>\n",
       "      <td>7.2574</td>\n",
       "      <td>52.0</td>\n",
       "      <td>8.288136</td>\n",
       "      <td>1.073446</td>\n",
       "      <td>496.0</td>\n",
       "      <td>2.802260</td>\n",
       "      <td>37.85</td>\n",
       "      <td>-122.24</td>\n",
       "      <td>3.521</td>\n",
       "    </tr>\n",
       "    <tr>\n",
       "      <th>3</th>\n",
       "      <td>5.6431</td>\n",
       "      <td>52.0</td>\n",
       "      <td>5.817352</td>\n",
       "      <td>1.073059</td>\n",
       "      <td>558.0</td>\n",
       "      <td>2.547945</td>\n",
       "      <td>37.85</td>\n",
       "      <td>-122.25</td>\n",
       "      <td>3.413</td>\n",
       "    </tr>\n",
       "    <tr>\n",
       "      <th>4</th>\n",
       "      <td>3.8462</td>\n",
       "      <td>52.0</td>\n",
       "      <td>6.281853</td>\n",
       "      <td>1.081081</td>\n",
       "      <td>565.0</td>\n",
       "      <td>2.181467</td>\n",
       "      <td>37.85</td>\n",
       "      <td>-122.25</td>\n",
       "      <td>3.422</td>\n",
       "    </tr>\n",
       "  </tbody>\n",
       "</table>\n",
       "</div>"
      ],
      "text/plain": [
       "   MedInc  HouseAge  AveRooms  AveBedrms  Population  AveOccup  Latitude  \\\n",
       "0  8.3252      41.0  6.984127   1.023810       322.0  2.555556     37.88   \n",
       "1  8.3014      21.0  6.238137   0.971880      2401.0  2.109842     37.86   \n",
       "2  7.2574      52.0  8.288136   1.073446       496.0  2.802260     37.85   \n",
       "3  5.6431      52.0  5.817352   1.073059       558.0  2.547945     37.85   \n",
       "4  3.8462      52.0  6.281853   1.081081       565.0  2.181467     37.85   \n",
       "\n",
       "   Longitude  MedHouseVal  \n",
       "0    -122.23        4.526  \n",
       "1    -122.22        3.585  \n",
       "2    -122.24        3.521  \n",
       "3    -122.25        3.413  \n",
       "4    -122.25        3.422  "
      ]
     },
     "execution_count": 3,
     "metadata": {},
     "output_type": "execute_result"
    }
   ],
   "source": [
    "from sklearn import datasets\n",
    "data = datasets.fetch_california_housing(as_frame=True).frame\n",
    "data.head()"
   ]
  },
  {
   "cell_type": "markdown",
   "id": "b6642cfc",
   "metadata": {},
   "source": [
    "### 2. Проверьте данные на наличие пропусков. Удалите их в случае обнаружения.\n",
    "\n"
   ]
  },
  {
   "cell_type": "code",
   "execution_count": 4,
   "id": "9e0dd0df",
   "metadata": {},
   "outputs": [
    {
     "name": "stdout",
     "output_type": "stream",
     "text": [
      "<class 'pandas.core.frame.DataFrame'>\n",
      "RangeIndex: 20640 entries, 0 to 20639\n",
      "Data columns (total 9 columns):\n",
      " #   Column       Non-Null Count  Dtype  \n",
      "---  ------       --------------  -----  \n",
      " 0   MedInc       20640 non-null  float64\n",
      " 1   HouseAge     20640 non-null  float64\n",
      " 2   AveRooms     20640 non-null  float64\n",
      " 3   AveBedrms    20640 non-null  float64\n",
      " 4   Population   20640 non-null  float64\n",
      " 5   AveOccup     20640 non-null  float64\n",
      " 6   Latitude     20640 non-null  float64\n",
      " 7   Longitude    20640 non-null  float64\n",
      " 8   MedHouseVal  20640 non-null  float64\n",
      "dtypes: float64(9)\n",
      "memory usage: 1.4 MB\n"
     ]
    }
   ],
   "source": [
    "data.info()"
   ]
  },
  {
   "cell_type": "code",
   "execution_count": 5,
   "id": "05b983fe",
   "metadata": {},
   "outputs": [],
   "source": [
    "# Пропусков нет"
   ]
  },
  {
   "cell_type": "markdown",
   "id": "9999280c",
   "metadata": {},
   "source": [
    "### 3. Разделите выборку на обучающее и тестовое подмножества. 80% данных оставить на обучающее множество, 20% - на тестовое.\n",
    "\n"
   ]
  },
  {
   "cell_type": "code",
   "execution_count": 6,
   "id": "b29f641a",
   "metadata": {},
   "outputs": [
    {
     "data": {
      "text/html": [
       "<div>\n",
       "<style scoped>\n",
       "    .dataframe tbody tr th:only-of-type {\n",
       "        vertical-align: middle;\n",
       "    }\n",
       "\n",
       "    .dataframe tbody tr th {\n",
       "        vertical-align: top;\n",
       "    }\n",
       "\n",
       "    .dataframe thead th {\n",
       "        text-align: right;\n",
       "    }\n",
       "</style>\n",
       "<table border=\"1\" class=\"dataframe\">\n",
       "  <thead>\n",
       "    <tr style=\"text-align: right;\">\n",
       "      <th></th>\n",
       "      <th>MedInc</th>\n",
       "      <th>HouseAge</th>\n",
       "      <th>AveRooms</th>\n",
       "      <th>AveBedrms</th>\n",
       "      <th>Population</th>\n",
       "      <th>AveOccup</th>\n",
       "      <th>Latitude</th>\n",
       "      <th>Longitude</th>\n",
       "      <th>MedHouseVal</th>\n",
       "    </tr>\n",
       "  </thead>\n",
       "  <tbody>\n",
       "    <tr>\n",
       "      <th>0</th>\n",
       "      <td>8.3252</td>\n",
       "      <td>41.0</td>\n",
       "      <td>6.984127</td>\n",
       "      <td>1.023810</td>\n",
       "      <td>322.0</td>\n",
       "      <td>2.555556</td>\n",
       "      <td>37.88</td>\n",
       "      <td>-122.23</td>\n",
       "      <td>4.526</td>\n",
       "    </tr>\n",
       "    <tr>\n",
       "      <th>1</th>\n",
       "      <td>8.3014</td>\n",
       "      <td>21.0</td>\n",
       "      <td>6.238137</td>\n",
       "      <td>0.971880</td>\n",
       "      <td>2401.0</td>\n",
       "      <td>2.109842</td>\n",
       "      <td>37.86</td>\n",
       "      <td>-122.22</td>\n",
       "      <td>3.585</td>\n",
       "    </tr>\n",
       "    <tr>\n",
       "      <th>2</th>\n",
       "      <td>7.2574</td>\n",
       "      <td>52.0</td>\n",
       "      <td>8.288136</td>\n",
       "      <td>1.073446</td>\n",
       "      <td>496.0</td>\n",
       "      <td>2.802260</td>\n",
       "      <td>37.85</td>\n",
       "      <td>-122.24</td>\n",
       "      <td>3.521</td>\n",
       "    </tr>\n",
       "    <tr>\n",
       "      <th>3</th>\n",
       "      <td>5.6431</td>\n",
       "      <td>52.0</td>\n",
       "      <td>5.817352</td>\n",
       "      <td>1.073059</td>\n",
       "      <td>558.0</td>\n",
       "      <td>2.547945</td>\n",
       "      <td>37.85</td>\n",
       "      <td>-122.25</td>\n",
       "      <td>3.413</td>\n",
       "    </tr>\n",
       "    <tr>\n",
       "      <th>4</th>\n",
       "      <td>3.8462</td>\n",
       "      <td>52.0</td>\n",
       "      <td>6.281853</td>\n",
       "      <td>1.081081</td>\n",
       "      <td>565.0</td>\n",
       "      <td>2.181467</td>\n",
       "      <td>37.85</td>\n",
       "      <td>-122.25</td>\n",
       "      <td>3.422</td>\n",
       "    </tr>\n",
       "  </tbody>\n",
       "</table>\n",
       "</div>"
      ],
      "text/plain": [
       "   MedInc  HouseAge  AveRooms  AveBedrms  Population  AveOccup  Latitude  \\\n",
       "0  8.3252      41.0  6.984127   1.023810       322.0  2.555556     37.88   \n",
       "1  8.3014      21.0  6.238137   0.971880      2401.0  2.109842     37.86   \n",
       "2  7.2574      52.0  8.288136   1.073446       496.0  2.802260     37.85   \n",
       "3  5.6431      52.0  5.817352   1.073059       558.0  2.547945     37.85   \n",
       "4  3.8462      52.0  6.281853   1.081081       565.0  2.181467     37.85   \n",
       "\n",
       "   Longitude  MedHouseVal  \n",
       "0    -122.23        4.526  \n",
       "1    -122.22        3.585  \n",
       "2    -122.24        3.521  \n",
       "3    -122.25        3.413  \n",
       "4    -122.25        3.422  "
      ]
     },
     "execution_count": 6,
     "metadata": {},
     "output_type": "execute_result"
    }
   ],
   "source": [
    "data.head()"
   ]
  },
  {
   "cell_type": "code",
   "execution_count": 100,
   "id": "81869cbc",
   "metadata": {},
   "outputs": [],
   "source": [
    "def learn_and_metrics(X,y, random_seed=42, model=None):\n",
    "    if model is None:\n",
    "        model = LinearRegression()\n",
    "        \n",
    "    # Обучили модель\n",
    "    X_train, X_test, y_train, y_test = train_test_split(X, y, test_size=0.2, random_state=random_seed) \n",
    "\n",
    "    scaler = StandardScaler()\n",
    "    X_train = scaler.fit_transform(X_train)\n",
    "    X_test = scaler.transform(X_test)\n",
    "\n",
    "    model.fit(X_train, y_train)\n",
    "    \n",
    "    # Предсказания на тренировочной и тестовой выборках.\n",
    "    pred_train = model.predict(X_train)\n",
    "    pred_test = model.predict(X_test)\n",
    "    \n",
    "    # RMSE для теста и тренировочной\n",
    "    rmse_train = np.sqrt(mean_squared_error(y_train, pred_train))\n",
    "    rmse_test = np.sqrt(mean_squared_error(y_test, pred_test))\n",
    "    \n",
    "    # R2 для теста и тренировочной\n",
    "    r2_train = r2_score(y_train, pred_train)\n",
    "    r2_test = r2_score(y_test, pred_test)\n",
    "    \n",
    "    return rmse_train, rmse_test, r2_train, r2_test   "
   ]
  },
  {
   "cell_type": "markdown",
   "id": "48e65d3a",
   "metadata": {},
   "source": [
    "### 4. Постройте модель линейной регрессии. Вычислите метрики RMSE, R2 на обучающем и тестовом множестве."
   ]
  },
  {
   "cell_type": "code",
   "execution_count": 105,
   "id": "009a9b15",
   "metadata": {},
   "outputs": [
    {
     "data": {
      "text/plain": [
       "(0.7196757085831575, 0.7455813830127762, 0.6125511913966952, 0.575787706032451)"
      ]
     },
     "execution_count": 105,
     "metadata": {},
     "output_type": "execute_result"
    }
   ],
   "source": [
    "X1 = data[['MedInc', 'HouseAge', 'AveRooms', 'AveBedrms', 'Population', 'AveOccup', 'Latitude', 'Longitude']]\n",
    "y1 = data['MedHouseVal']\n",
    "learn_and_metrics(X1, y1)"
   ]
  },
  {
   "cell_type": "code",
   "execution_count": 104,
   "id": "0f51ab81",
   "metadata": {},
   "outputs": [
    {
     "name": "stdout",
     "output_type": "stream",
     "text": [
      "RMSE для тренировочной: 0.71968 --- RMSE для тестовой: 0.74558\n",
      "R2 для тренировочной: 0.61255 --- R2 для тестовой: 0.57579\n"
     ]
    }
   ],
   "source": [
    "print(f'RMSE для тренировочной: {learn_and_metrics(X1, y1)[0]:.5f} --- RMSE для тестовой: {learn_and_metrics(X1, y1)[1]:.5f}\\n\\\n",
    "R2 для тренировочной: {learn_and_metrics(X1, y1)[2]:.5f} --- R2 для тестовой: {learn_and_metrics(X1, y1)[3]:.5f}')"
   ]
  },
  {
   "cell_type": "markdown",
   "id": "0b5ab3f1",
   "metadata": {},
   "source": [
    "### 5. Постройте график распределения целевой переменной. Сделайте вывод. Присутствуют ли в этом признаке выбросы?\n"
   ]
  },
  {
   "cell_type": "code",
   "execution_count": 48,
   "id": "5f73d2e5",
   "metadata": {},
   "outputs": [
    {
     "data": {
      "image/png": "[encoded data removed]",
      "text/plain": [
       "<Figure size 1080x720 with 1 Axes>"
      ]
     },
     "metadata": {
      "needs_background": "light"
     },
     "output_type": "display_data"
    }
   ],
   "source": [
    "# Добавил условную линию, чтобы было ясно, после какого порога идут выбросы. они есть примерно выше значения 4.95.\n",
    "# Но я бы не сказал, что их стоит убирать. Посмотрел при оичтске, без них хуже.\n",
    "sns.boxplot(x = data['MedHouseVal'])\n",
    "plt.plot([4.95, 4.95], [0.2, 1], c='m', linewidth= 3)\n",
    "plt.grid()\n",
    "plt.show()"
   ]
  },
  {
   "cell_type": "markdown",
   "id": "7d55e2bb",
   "metadata": {},
   "source": [
    "### 6. Посчитайте и выведите корреляционную матрицу. Убедитесь, что ячейки матрицы поделены на цветные категории, в ячейках указано числовое значение корреляции.\n",
    "\n"
   ]
  },
  {
   "cell_type": "code",
   "execution_count": 11,
   "id": "17945aca",
   "metadata": {},
   "outputs": [
    {
     "data": {
      "text/html": [
       "<div>\n",
       "<style scoped>\n",
       "    .dataframe tbody tr th:only-of-type {\n",
       "        vertical-align: middle;\n",
       "    }\n",
       "\n",
       "    .dataframe tbody tr th {\n",
       "        vertical-align: top;\n",
       "    }\n",
       "\n",
       "    .dataframe thead th {\n",
       "        text-align: right;\n",
       "    }\n",
       "</style>\n",
       "<table border=\"1\" class=\"dataframe\">\n",
       "  <thead>\n",
       "    <tr style=\"text-align: right;\">\n",
       "      <th></th>\n",
       "      <th>MedInc</th>\n",
       "      <th>HouseAge</th>\n",
       "      <th>AveRooms</th>\n",
       "      <th>AveBedrms</th>\n",
       "      <th>Population</th>\n",
       "      <th>AveOccup</th>\n",
       "      <th>Latitude</th>\n",
       "      <th>Longitude</th>\n",
       "      <th>MedHouseVal</th>\n",
       "    </tr>\n",
       "  </thead>\n",
       "  <tbody>\n",
       "    <tr>\n",
       "      <th>MedInc</th>\n",
       "      <td>1.000000</td>\n",
       "      <td>-0.119034</td>\n",
       "      <td>0.326895</td>\n",
       "      <td>-0.062040</td>\n",
       "      <td>0.004834</td>\n",
       "      <td>0.018766</td>\n",
       "      <td>-0.079809</td>\n",
       "      <td>-0.015176</td>\n",
       "      <td>0.688075</td>\n",
       "    </tr>\n",
       "    <tr>\n",
       "      <th>HouseAge</th>\n",
       "      <td>-0.119034</td>\n",
       "      <td>1.000000</td>\n",
       "      <td>-0.153277</td>\n",
       "      <td>-0.077747</td>\n",
       "      <td>-0.296244</td>\n",
       "      <td>0.013191</td>\n",
       "      <td>0.011173</td>\n",
       "      <td>-0.108197</td>\n",
       "      <td>0.105623</td>\n",
       "    </tr>\n",
       "    <tr>\n",
       "      <th>AveRooms</th>\n",
       "      <td>0.326895</td>\n",
       "      <td>-0.153277</td>\n",
       "      <td>1.000000</td>\n",
       "      <td>0.847621</td>\n",
       "      <td>-0.072213</td>\n",
       "      <td>-0.004852</td>\n",
       "      <td>0.106389</td>\n",
       "      <td>-0.027540</td>\n",
       "      <td>0.151948</td>\n",
       "    </tr>\n",
       "    <tr>\n",
       "      <th>AveBedrms</th>\n",
       "      <td>-0.062040</td>\n",
       "      <td>-0.077747</td>\n",
       "      <td>0.847621</td>\n",
       "      <td>1.000000</td>\n",
       "      <td>-0.066197</td>\n",
       "      <td>-0.006181</td>\n",
       "      <td>0.069721</td>\n",
       "      <td>0.013344</td>\n",
       "      <td>-0.046701</td>\n",
       "    </tr>\n",
       "    <tr>\n",
       "      <th>Population</th>\n",
       "      <td>0.004834</td>\n",
       "      <td>-0.296244</td>\n",
       "      <td>-0.072213</td>\n",
       "      <td>-0.066197</td>\n",
       "      <td>1.000000</td>\n",
       "      <td>0.069863</td>\n",
       "      <td>-0.108785</td>\n",
       "      <td>0.099773</td>\n",
       "      <td>-0.024650</td>\n",
       "    </tr>\n",
       "  </tbody>\n",
       "</table>\n",
       "</div>"
      ],
      "text/plain": [
       "              MedInc  HouseAge  AveRooms  AveBedrms  Population  AveOccup  \\\n",
       "MedInc      1.000000 -0.119034  0.326895  -0.062040    0.004834  0.018766   \n",
       "HouseAge   -0.119034  1.000000 -0.153277  -0.077747   -0.296244  0.013191   \n",
       "AveRooms    0.326895 -0.153277  1.000000   0.847621   -0.072213 -0.004852   \n",
       "AveBedrms  -0.062040 -0.077747  0.847621   1.000000   -0.066197 -0.006181   \n",
       "Population  0.004834 -0.296244 -0.072213  -0.066197    1.000000  0.069863   \n",
       "\n",
       "            Latitude  Longitude  MedHouseVal  \n",
       "MedInc     -0.079809  -0.015176     0.688075  \n",
       "HouseAge    0.011173  -0.108197     0.105623  \n",
       "AveRooms    0.106389  -0.027540     0.151948  \n",
       "AveBedrms   0.069721   0.013344    -0.046701  \n",
       "Population -0.108785   0.099773    -0.024650  "
      ]
     },
     "execution_count": 11,
     "metadata": {},
     "output_type": "execute_result"
    }
   ],
   "source": [
    "matrix = data.corr()\n",
    "matrix.head()"
   ]
  },
  {
   "cell_type": "code",
   "execution_count": 28,
   "id": "8b54758f",
   "metadata": {},
   "outputs": [
    {
     "data": {
      "image/png": "[encoded data removed]",
      "text/plain": [
       "<Figure size 1080x720 with 2 Axes>"
      ]
     },
     "metadata": {
      "needs_background": "light"
     },
     "output_type": "display_data"
    }
   ],
   "source": [
    "sns.heatmap(matrix, annot=True, vmin = -1, vmax = 1, center=0, fmt=\".3f\", linewidth=.5, \\\n",
    "            cmap=sns.cubehelix_palette(as_cmap=True))\n",
    "plt.show()"
   ]
  },
  {
   "cell_type": "markdown",
   "id": "a7e19770",
   "metadata": {},
   "source": [
    "a. Сделайте выводы."
   ]
  },
  {
   "cell_type": "code",
   "execution_count": 13,
   "id": "e89e8ce6",
   "metadata": {},
   "outputs": [],
   "source": [
    "# наивысшая связь это пары: MedInc\\MedHouseval; Срднее кол-во комнат/среднее кол-во спален\n",
    "\n",
    "# А обратную взаимосвязь между шириной и долготой. Не очень понял, но поищу, это интересно)"
   ]
  },
  {
   "cell_type": "markdown",
   "id": "8531bb3a",
   "metadata": {},
   "source": [
    "b. Удалите признаки на основании полученных значений, выводов.\n"
   ]
  },
  {
   "cell_type": "code",
   "execution_count": 14,
   "id": "3dd71d06",
   "metadata": {},
   "outputs": [],
   "source": [
    "# Так как реально высокая корреляция между Срднее кол-во комнат/среднее кол-во спаленЮ равная 0.848, то удалим один признак.\n",
    "# Я выбрал спальни, а не комнаты, для удаления)\n"
   ]
  },
  {
   "cell_type": "markdown",
   "id": "195ac8b2",
   "metadata": {},
   "source": [
    "c. Повторите п. 3, п. 4 на измененных данных.\n"
   ]
  },
  {
   "cell_type": "code",
   "execution_count": 106,
   "id": "fcab2a0d",
   "metadata": {},
   "outputs": [
    {
     "data": {
      "text/plain": [
       "(0.7316746485880744,\n",
       " 0.7398151789804085,\n",
       " 0.5995238502055928,\n",
       " 0.5823239094526443)"
      ]
     },
     "execution_count": 106,
     "metadata": {},
     "output_type": "execute_result"
    }
   ],
   "source": [
    "X2 = data[['MedInc', 'HouseAge', 'AveRooms', 'Population', 'AveOccup', 'Latitude', 'Longitude']]\n",
    "y2 = data['MedHouseVal']\n",
    "\n",
    "learn_and_metrics(X2, y2)"
   ]
  },
  {
   "cell_type": "code",
   "execution_count": 107,
   "id": "d355b3bf",
   "metadata": {},
   "outputs": [
    {
     "name": "stdout",
     "output_type": "stream",
     "text": [
      "RMSE для тренировочной: 0.73167 --- RMSE для тестовой: 0.73982\n",
      "R2 для тренировочной: 0.59952 --- R2 для тестовой: 0.58232\n"
     ]
    }
   ],
   "source": [
    "print(f'RMSE для тренировочной: {learn_and_metrics(X2, y2)[0]:.5f} --- RMSE для тестовой: {learn_and_metrics(X2, y2)[1]:.5f}\\n\\\n",
    "R2 для тренировочной: {learn_and_metrics(X2, y2)[2]:.5f} --- R2 для тестовой: {learn_and_metrics(X2, y2)[3]:.5f}')"
   ]
  },
  {
   "cell_type": "markdown",
   "id": "d0fb10fb",
   "metadata": {},
   "source": [
    "### 7. Исследуйте оставленные признаки на выбросы.\n",
    "a. Удалите выбросы в случае обнаружения.\n"
   ]
  },
  {
   "cell_type": "code",
   "execution_count": 41,
   "id": "06447ae2",
   "metadata": {},
   "outputs": [
    {
     "data": {
      "image/png": "[encoded data removed]",
      "text/plain": [
       "<Figure size 1080x720 with 1 Axes>"
      ]
     },
     "metadata": {
      "needs_background": "light"
     },
     "output_type": "display_data"
    }
   ],
   "source": [
    "# Выбросы после 4.9\n",
    "sns.boxplot(x = data['MedHouseVal'])\n",
    "plt.plot([4.95, 4.95], [0.2, 1], c='m', linewidth= 3)\n",
    "plt.grid()\n",
    "plt.show()"
   ]
  },
  {
   "cell_type": "code",
   "execution_count": 51,
   "id": "e5f5bd43",
   "metadata": {},
   "outputs": [
    {
     "data": {
      "image/png": "[encoded data removed]",
      "text/plain": [
       "<Figure size 1080x720 with 1 Axes>"
      ]
     },
     "metadata": {
      "needs_background": "light"
     },
     "output_type": "display_data"
    }
   ],
   "source": [
    "# Выбросы после 14.8\n",
    "sns.boxplot(x = data['MedInc'])\n",
    "plt.plot([14.8, 14.8], [0.2, 1], c='m', linewidth= 3)\n",
    "plt.grid()\n",
    "plt.show()"
   ]
  },
  {
   "cell_type": "code",
   "execution_count": 31,
   "id": "2cab10d0",
   "metadata": {},
   "outputs": [
    {
     "data": {
      "image/png": "[encoded data removed]",
      "text/plain": [
       "<Figure size 1080x720 with 1 Axes>"
      ]
     },
     "metadata": {
      "needs_background": "light"
     },
     "output_type": "display_data"
    }
   ],
   "source": [
    "# Выбросы отсутствуют\n",
    "sns.boxplot(x = data['HouseAge'])\n",
    "plt.grid()\n",
    "plt.show()"
   ]
  },
  {
   "cell_type": "code",
   "execution_count": 52,
   "id": "2dc00f8c",
   "metadata": {},
   "outputs": [
    {
     "data": {
      "image/png": "[encoded data removed]",
      "text/plain": [
       "<Figure size 1080x720 with 1 Axes>"
      ]
     },
     "metadata": {
      "needs_background": "light"
     },
     "output_type": "display_data"
    }
   ],
   "source": [
    "# Выбросы после 60\n",
    "sns.boxplot(x = data['AveRooms'])\n",
    "plt.plot([60, 60], [0.2, 1], c='m', linewidth= 3)\n",
    "plt.grid()\n",
    "plt.show()"
   ]
  },
  {
   "cell_type": "code",
   "execution_count": 33,
   "id": "2af0de9e",
   "metadata": {},
   "outputs": [
    {
     "data": {
      "image/png": "[encoded data removed]",
      "text/plain": [
       "<Figure size 1080x720 with 1 Axes>"
      ]
     },
     "metadata": {
      "needs_background": "light"
     },
     "output_type": "display_data"
    }
   ],
   "source": [
    "# Выбросы после 15000\n",
    "sns.boxplot(x = data['Population'])\n",
    "plt.plot([15000, 15000], [0.2, 1], c='m', linewidth= 3)\n",
    "plt.grid()\n",
    "plt.show()"
   ]
  },
  {
   "cell_type": "code",
   "execution_count": 59,
   "id": "bb8058f3",
   "metadata": {},
   "outputs": [
    {
     "data": {
      "image/png": "[encoded data removed]",
      "text/plain": [
       "<Figure size 1080x720 with 1 Axes>"
      ]
     },
     "metadata": {
      "needs_background": "light"
     },
     "output_type": "display_data"
    }
   ],
   "source": [
    "# Выбросы после 200\n",
    "sns.boxplot(x = data['AveOccup'])\n",
    "plt.plot([200, 200], [0.2, 1], c='m', linewidth= 3)\n",
    "plt.grid()\n",
    "plt.show()"
   ]
  },
  {
   "cell_type": "code",
   "execution_count": 35,
   "id": "17b79319",
   "metadata": {},
   "outputs": [
    {
     "data": {
      "image/png": "[encoded data removed]",
      "text/plain": [
       "<Figure size 1080x720 with 1 Axes>"
      ]
     },
     "metadata": {
      "needs_background": "light"
     },
     "output_type": "display_data"
    }
   ],
   "source": [
    "# Выбросы отсутствуют\n",
    "sns.boxplot(x = data['Latitude'])\n",
    "plt.grid()\n",
    "plt.show()"
   ]
  },
  {
   "cell_type": "code",
   "execution_count": 36,
   "id": "fdfe394d",
   "metadata": {},
   "outputs": [
    {
     "data": {
      "image/png": "[encoded data removed]",
      "text/plain": [
       "<Figure size 1080x720 with 1 Axes>"
      ]
     },
     "metadata": {
      "needs_background": "light"
     },
     "output_type": "display_data"
    }
   ],
   "source": [
    "# Выбросы отсутствуют\n",
    "sns.boxplot(x = data['Longitude'])\n",
    "plt.grid()\n",
    "plt.show()"
   ]
  },
  {
   "cell_type": "markdown",
   "id": "3cb3cfad",
   "metadata": {},
   "source": [
    "b. Повторите п. 3, п. 4 на измененных данных.\n"
   ]
  },
  {
   "cell_type": "code",
   "execution_count": 56,
   "id": "5a2db5e7",
   "metadata": {},
   "outputs": [],
   "source": [
    "new_data = data.copy(deep=True)\n",
    "\n",
    "new_data = new_data[new_data['MedInc'] < 14.8]\n",
    "new_data = new_data[new_data['AveRooms'] < 60]\n",
    "new_data = new_data[new_data['Population'] < 15000]\n",
    "new_data = new_data[new_data['AveOccup'] < 200]"
   ]
  },
  {
   "cell_type": "code",
   "execution_count": 108,
   "id": "70eacd08",
   "metadata": {},
   "outputs": [
    {
     "data": {
      "text/plain": [
       "(0.7059832538358143,\n",
       " 0.7248103237342421,\n",
       " 0.6190807480855216,\n",
       " 0.6064253513531717)"
      ]
     },
     "execution_count": 108,
     "metadata": {},
     "output_type": "execute_result"
    }
   ],
   "source": [
    "X3 = new_data[['MedInc', 'HouseAge', 'AveRooms', 'Population', 'AveOccup', 'Latitude', 'Longitude']]\n",
    "y3 = new_data['MedHouseVal']\n",
    "\n",
    "learn_and_metrics(X3, y3)"
   ]
  },
  {
   "cell_type": "code",
   "execution_count": 109,
   "id": "8fc1520b",
   "metadata": {},
   "outputs": [
    {
     "name": "stdout",
     "output_type": "stream",
     "text": [
      "RMSE для тренировочной: 0.70598 --- RMSE для тестовой: 0.72481\n",
      "R2 для тренировочной: 0.61908 --- R2 для тестовой: 0.60643\n"
     ]
    }
   ],
   "source": [
    "print(f'RMSE для тренировочной: {learn_and_metrics(X3, y3)[0]:.5f} --- RMSE для тестовой: {learn_and_metrics(X3, y3)[1]:.5f}\\n\\\n",
    "R2 для тренировочной: {learn_and_metrics(X3, y3)[2]:.5f} --- R2 для тестовой: {learn_and_metrics(X3, y3)[3]:.5f}')"
   ]
  },
  {
   "cell_type": "markdown",
   "id": "3919da5e",
   "metadata": {},
   "source": [
    "### 8. Измените несколько признаков на выбор математически. Например, вычислите логарифм, возведите в квадрат, извлеките квадратный корень.\n",
    "\n"
   ]
  },
  {
   "cell_type": "code",
   "execution_count": 95,
   "id": "a86fb1c4",
   "metadata": {},
   "outputs": [
    {
     "data": {
      "text/html": [
       "<div>\n",
       "<style scoped>\n",
       "    .dataframe tbody tr th:only-of-type {\n",
       "        vertical-align: middle;\n",
       "    }\n",
       "\n",
       "    .dataframe tbody tr th {\n",
       "        vertical-align: top;\n",
       "    }\n",
       "\n",
       "    .dataframe thead th {\n",
       "        text-align: right;\n",
       "    }\n",
       "</style>\n",
       "<table border=\"1\" class=\"dataframe\">\n",
       "  <thead>\n",
       "    <tr style=\"text-align: right;\">\n",
       "      <th></th>\n",
       "      <th>MedInc</th>\n",
       "      <th>HouseAge</th>\n",
       "      <th>AveRooms</th>\n",
       "      <th>AveBedrms</th>\n",
       "      <th>Population</th>\n",
       "      <th>AveOccup</th>\n",
       "      <th>Latitude</th>\n",
       "      <th>Longitude</th>\n",
       "      <th>MedHouseVal</th>\n",
       "    </tr>\n",
       "  </thead>\n",
       "  <tbody>\n",
       "    <tr>\n",
       "      <th>0</th>\n",
       "      <td>8.3252</td>\n",
       "      <td>41.0</td>\n",
       "      <td>6.984127</td>\n",
       "      <td>1.023810</td>\n",
       "      <td>322.0</td>\n",
       "      <td>2.555556</td>\n",
       "      <td>37.88</td>\n",
       "      <td>-122.23</td>\n",
       "      <td>4.526</td>\n",
       "    </tr>\n",
       "    <tr>\n",
       "      <th>1</th>\n",
       "      <td>8.3014</td>\n",
       "      <td>21.0</td>\n",
       "      <td>6.238137</td>\n",
       "      <td>0.971880</td>\n",
       "      <td>2401.0</td>\n",
       "      <td>2.109842</td>\n",
       "      <td>37.86</td>\n",
       "      <td>-122.22</td>\n",
       "      <td>3.585</td>\n",
       "    </tr>\n",
       "    <tr>\n",
       "      <th>2</th>\n",
       "      <td>7.2574</td>\n",
       "      <td>52.0</td>\n",
       "      <td>8.288136</td>\n",
       "      <td>1.073446</td>\n",
       "      <td>496.0</td>\n",
       "      <td>2.802260</td>\n",
       "      <td>37.85</td>\n",
       "      <td>-122.24</td>\n",
       "      <td>3.521</td>\n",
       "    </tr>\n",
       "    <tr>\n",
       "      <th>3</th>\n",
       "      <td>5.6431</td>\n",
       "      <td>52.0</td>\n",
       "      <td>5.817352</td>\n",
       "      <td>1.073059</td>\n",
       "      <td>558.0</td>\n",
       "      <td>2.547945</td>\n",
       "      <td>37.85</td>\n",
       "      <td>-122.25</td>\n",
       "      <td>3.413</td>\n",
       "    </tr>\n",
       "    <tr>\n",
       "      <th>4</th>\n",
       "      <td>3.8462</td>\n",
       "      <td>52.0</td>\n",
       "      <td>6.281853</td>\n",
       "      <td>1.081081</td>\n",
       "      <td>565.0</td>\n",
       "      <td>2.181467</td>\n",
       "      <td>37.85</td>\n",
       "      <td>-122.25</td>\n",
       "      <td>3.422</td>\n",
       "    </tr>\n",
       "  </tbody>\n",
       "</table>\n",
       "</div>"
      ],
      "text/plain": [
       "   MedInc  HouseAge  AveRooms  AveBedrms  Population  AveOccup  Latitude  \\\n",
       "0  8.3252      41.0  6.984127   1.023810       322.0  2.555556     37.88   \n",
       "1  8.3014      21.0  6.238137   0.971880      2401.0  2.109842     37.86   \n",
       "2  7.2574      52.0  8.288136   1.073446       496.0  2.802260     37.85   \n",
       "3  5.6431      52.0  5.817352   1.073059       558.0  2.547945     37.85   \n",
       "4  3.8462      52.0  6.281853   1.081081       565.0  2.181467     37.85   \n",
       "\n",
       "   Longitude  MedHouseVal  \n",
       "0    -122.23        4.526  \n",
       "1    -122.22        3.585  \n",
       "2    -122.24        3.521  \n",
       "3    -122.25        3.413  \n",
       "4    -122.25        3.422  "
      ]
     },
     "execution_count": 95,
     "metadata": {},
     "output_type": "execute_result"
    }
   ],
   "source": [
    "last_data = data.copy(deep=True)\n",
    "last_data.head()"
   ]
  },
  {
   "cell_type": "code",
   "execution_count": 96,
   "id": "b7a68135",
   "metadata": {},
   "outputs": [],
   "source": [
    "last_data['AveBedrms'] = np.sqrt(last_data['AveBedrms'])\n",
    "last_data['HouseAge'] = np.log(last_data['HouseAge'])\n",
    "last_data['AveOccup'] = np.power(last_data['AveOccup'], 2)"
   ]
  },
  {
   "cell_type": "markdown",
   "id": "c9b1734a",
   "metadata": {},
   "source": [
    "a. Повторите п. 3, п. 4 на измененных данных."
   ]
  },
  {
   "cell_type": "code",
   "execution_count": 110,
   "id": "e4398190",
   "metadata": {},
   "outputs": [
    {
     "data": {
      "text/plain": [
       "(0.7346466572502509, 0.742809900726755, 0.5962638332603347, 0.5789356164528221)"
      ]
     },
     "execution_count": 110,
     "metadata": {},
     "output_type": "execute_result"
    }
   ],
   "source": [
    "X4 = last_data[['MedInc', 'HouseAge', 'AveRooms', 'Population', 'AveOccup', 'Latitude', 'Longitude']]\n",
    "y4 = last_data['MedHouseVal']\n",
    "\n",
    "learn_and_metrics(X4, y4)"
   ]
  },
  {
   "cell_type": "code",
   "execution_count": 111,
   "id": "b7d77480",
   "metadata": {},
   "outputs": [
    {
     "name": "stdout",
     "output_type": "stream",
     "text": [
      "RMSE для тренировочной: 0.73465 --- RMSE для тестовой: 0.74281\n",
      "R2 для тренировочной: 0.59626 --- R2 для тестовой: 0.57894\n"
     ]
    }
   ],
   "source": [
    "print(f'RMSE для тренировочной: {learn_and_metrics(X4, y4)[0]:.5f} --- RMSE для тестовой: {learn_and_metrics(X4, y4)[1]:.5f}\\n\\\n",
    "R2 для тренировочной: {learn_and_metrics(X4, y4)[2]:.5f} --- R2 для тестовой: {learn_and_metrics(X4, y4)[3]:.5f}')"
   ]
  },
  {
   "cell_type": "markdown",
   "id": "3375654f",
   "metadata": {},
   "source": [
    "### 9. Сформулируйте выводы по проделанной работе.\n",
    "a. Кратко опишите какие преобразования были сделаны с данными.\n"
   ]
  },
  {
   "cell_type": "markdown",
   "id": "2c78ef7f",
   "metadata": {},
   "source": [
    "Предобработка, загрузили данные, разделили их наа выборку 80/20 с выбранными признаками. Сделали функцию для обучения и подсчета интересующих нас метрик. Посмотрели выбросы, убрали их. Посмотрели корреляции и убрали их. Поигрались с преобразованиями и посмотрели метрики."
   ]
  },
  {
   "cell_type": "markdown",
   "id": "66580c27",
   "metadata": {},
   "source": [
    "b. Сравните метрики всех моделей. Желательно оформление в виде таблицы вида |модель|RMSE|R2|признаки, на которых проводилось обучение с указанием их преобразований|.\n"
   ]
  },
  {
   "cell_type": "code",
   "execution_count": 115,
   "id": "34d7ef09",
   "metadata": {},
   "outputs": [
    {
     "data": {
      "text/html": [
       "<div>\n",
       "<style scoped>\n",
       "    .dataframe tbody tr th:only-of-type {\n",
       "        vertical-align: middle;\n",
       "    }\n",
       "\n",
       "    .dataframe tbody tr th {\n",
       "        vertical-align: top;\n",
       "    }\n",
       "\n",
       "    .dataframe thead th {\n",
       "        text-align: right;\n",
       "    }\n",
       "</style>\n",
       "<table border=\"1\" class=\"dataframe\">\n",
       "  <thead>\n",
       "    <tr style=\"text-align: right;\">\n",
       "      <th></th>\n",
       "      <th>Модель</th>\n",
       "      <th>RMSE_train</th>\n",
       "      <th>RMSE_test</th>\n",
       "      <th>R2_train</th>\n",
       "      <th>R2_test</th>\n",
       "      <th>Признаки</th>\n",
       "    </tr>\n",
       "  </thead>\n",
       "  <tbody>\n",
       "    <tr>\n",
       "      <th>0</th>\n",
       "      <td>Сырые данные</td>\n",
       "      <td>0.719676</td>\n",
       "      <td>0.745581</td>\n",
       "      <td>0.612551</td>\n",
       "      <td>0.575788</td>\n",
       "      <td>[MedInc, HouseAge, AveRooms, AveBedrms, Popula...</td>\n",
       "    </tr>\n",
       "    <tr>\n",
       "      <th>1</th>\n",
       "      <td>Убрал корреллирующие признаки</td>\n",
       "      <td>0.731675</td>\n",
       "      <td>0.739815</td>\n",
       "      <td>0.599524</td>\n",
       "      <td>0.582324</td>\n",
       "      <td>[MedInc, HouseAge, AveRooms, Population, AveOc...</td>\n",
       "    </tr>\n",
       "    <tr>\n",
       "      <th>2</th>\n",
       "      <td>Без выбросов</td>\n",
       "      <td>0.705983</td>\n",
       "      <td>0.724810</td>\n",
       "      <td>0.619081</td>\n",
       "      <td>0.606425</td>\n",
       "      <td>[MedInc, HouseAge, AveRooms, Population, AveOc...</td>\n",
       "    </tr>\n",
       "    <tr>\n",
       "      <th>3</th>\n",
       "      <td>После мат. преобразований</td>\n",
       "      <td>0.734647</td>\n",
       "      <td>0.742810</td>\n",
       "      <td>0.596264</td>\n",
       "      <td>0.578936</td>\n",
       "      <td>[MedInc, HouseAge, AveRooms, Population, AveOc...</td>\n",
       "    </tr>\n",
       "  </tbody>\n",
       "</table>\n",
       "</div>"
      ],
      "text/plain": [
       "                          Модель  RMSE_train  RMSE_test  R2_train   R2_test  \\\n",
       "0                   Сырые данные    0.719676   0.745581  0.612551  0.575788   \n",
       "1  Убрал корреллирующие признаки    0.731675   0.739815  0.599524  0.582324   \n",
       "2                   Без выбросов    0.705983   0.724810  0.619081  0.606425   \n",
       "3      После мат. преобразований    0.734647   0.742810  0.596264  0.578936   \n",
       "\n",
       "                                            Признаки  \n",
       "0  [MedInc, HouseAge, AveRooms, AveBedrms, Popula...  \n",
       "1  [MedInc, HouseAge, AveRooms, Population, AveOc...  \n",
       "2  [MedInc, HouseAge, AveRooms, Population, AveOc...  \n",
       "3  [MedInc, HouseAge, AveRooms, Population, AveOc...  "
      ]
     },
     "execution_count": 115,
     "metadata": {},
     "output_type": "execute_result"
    }
   ],
   "source": [
    "d = {'Модель': ['Сырые данные', 'Убрал корреллирующие признаки', 'Без выбросов', 'После мат. преобразований'],\n",
    "    'RMSE_train': [learn_and_metrics(X1, y1)[0], learn_and_metrics(X2, y2)[0], \\\n",
    "             learn_and_metrics(X3, y3)[0], learn_and_metrics(X4, y4)[0]],\n",
    "    'RMSE_test': [learn_and_metrics(X1, y1)[1], learn_and_metrics(X2, y2)[1], \\\n",
    "             learn_and_metrics(X3, y3)[1], learn_and_metrics(X4, y4)[1]],\n",
    "    'R2_train': [learn_and_metrics(X1, y1)[2], learn_and_metrics(X2, y2)[2], \\\n",
    "             learn_and_metrics(X3, y3)[2], learn_and_metrics(X4, y4)[2]],\n",
    "    'R2_test': [learn_and_metrics(X1, y1)[3], learn_and_metrics(X2, y2)[3], \\\n",
    "             learn_and_metrics(X3, y3)[3], learn_and_metrics(X4, y4)[3]],\n",
    "    'Признаки': [['MedInc', 'HouseAge', 'AveRooms', 'AveBedrms', 'Population', 'AveOccup', 'Latitude', 'Longitude'], \\\n",
    "                 ['MedInc', 'HouseAge', 'AveRooms', 'Population', 'AveOccup', 'Latitude', 'Longitude'], \\\n",
    "                 ['MedInc', 'HouseAge', 'AveRooms', 'Population', 'AveOccup', 'Latitude', 'Longitude'], \\\n",
    "                 ['MedInc', 'HouseAge', 'AveRooms', 'Population', 'AveOccup', 'Latitude', 'Longitude']]}\n",
    "\n",
    "dddd = pd.DataFrame(data = d)\n",
    "dddd"
   ]
  },
  {
   "cell_type": "markdown",
   "id": "36942f01",
   "metadata": {},
   "source": [
    "c. Напишите свое мнение, в полной ли мере модели справились с поставленной задачей.\n"
   ]
  },
  {
   "cell_type": "markdown",
   "id": "09ac7313",
   "metadata": {},
   "source": [
    "Где-то да, а где-то нет. Все дело в выборе методов. По нашим параметрам мы видм, чьто разные преобразования улучшают или ухудшают качество модели. Поэтому нужно осторожно подходить к выбору инструментов и эксперементировать в процессе."
   ]
  }
 ],
 "metadata": {
  "kernelspec": {
   "display_name": "Python 3 (ipykernel)",
   "language": "python",
   "name": "python3"
  },
  "language_info": {
   "codemirror_mode": {
    "name": "ipython",
    "version": 3
   },
   "file_extension": ".py",
   "mimetype": "text/x-python",
   "name": "python",
   "nbconvert_exporter": "python",
   "pygments_lexer": "ipython3",
   "version": "3.9.7"
  }
 },
 "nbformat": 4,
 "nbformat_minor": 5
}
