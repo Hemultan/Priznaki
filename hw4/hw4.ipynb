{
 "cells": [
  {
   "cell_type": "code",
   "execution_count": 202,
   "id": "212cd9d3",
   "metadata": {},
   "outputs": [],
   "source": [
    "import numpy as np\n",
    "import pandas as pd\n",
    "import seaborn as sns\n",
    "import matplotlib.pyplot as plt\n",
    "\n",
    "from sklearn.linear_model import LogisticRegression\n",
    "from sklearn.metrics import roc_auc_score\n",
    "from sklearn.model_selection import train_test_split\n",
    "from sklearn.preprocessing import LabelEncoder\n",
    "from sklearn.preprocessing import OneHotEncoder\n",
    "\n",
    "\n",
    "from pylab import rcParams\n",
    "rcParams['figure.figsize'] = 13, 8"
   ]
  },
  {
   "cell_type": "markdown",
   "id": "c140b16e",
   "metadata": {},
   "source": [
    "### 1. Получите и загрузите данные.\n"
   ]
  },
  {
   "cell_type": "code",
   "execution_count": 122,
   "id": "01b3b040",
   "metadata": {},
   "outputs": [
    {
     "data": {
      "text/html": [
       "<div>\n",
       "<style scoped>\n",
       "    .dataframe tbody tr th:only-of-type {\n",
       "        vertical-align: middle;\n",
       "    }\n",
       "\n",
       "    .dataframe tbody tr th {\n",
       "        vertical-align: top;\n",
       "    }\n",
       "\n",
       "    .dataframe thead th {\n",
       "        text-align: right;\n",
       "    }\n",
       "</style>\n",
       "<table border=\"1\" class=\"dataframe\">\n",
       "  <thead>\n",
       "    <tr style=\"text-align: right;\">\n",
       "      <th></th>\n",
       "      <th>PassengerId</th>\n",
       "      <th>Survived</th>\n",
       "      <th>Pclass</th>\n",
       "      <th>Name</th>\n",
       "      <th>Sex</th>\n",
       "      <th>Age</th>\n",
       "      <th>SibSp</th>\n",
       "      <th>Parch</th>\n",
       "      <th>Ticket</th>\n",
       "      <th>Fare</th>\n",
       "      <th>Cabin</th>\n",
       "      <th>Embarked</th>\n",
       "    </tr>\n",
       "  </thead>\n",
       "  <tbody>\n",
       "    <tr>\n",
       "      <th>0</th>\n",
       "      <td>1</td>\n",
       "      <td>0</td>\n",
       "      <td>3</td>\n",
       "      <td>Braund, Mr. Owen Harris</td>\n",
       "      <td>male</td>\n",
       "      <td>22.0</td>\n",
       "      <td>1</td>\n",
       "      <td>0</td>\n",
       "      <td>A/5 21171</td>\n",
       "      <td>7.2500</td>\n",
       "      <td>NaN</td>\n",
       "      <td>S</td>\n",
       "    </tr>\n",
       "    <tr>\n",
       "      <th>1</th>\n",
       "      <td>2</td>\n",
       "      <td>1</td>\n",
       "      <td>1</td>\n",
       "      <td>Cumings, Mrs. John Bradley (Florence Briggs Th...</td>\n",
       "      <td>female</td>\n",
       "      <td>38.0</td>\n",
       "      <td>1</td>\n",
       "      <td>0</td>\n",
       "      <td>PC 17599</td>\n",
       "      <td>71.2833</td>\n",
       "      <td>C85</td>\n",
       "      <td>C</td>\n",
       "    </tr>\n",
       "    <tr>\n",
       "      <th>2</th>\n",
       "      <td>3</td>\n",
       "      <td>1</td>\n",
       "      <td>3</td>\n",
       "      <td>Heikkinen, Miss. Laina</td>\n",
       "      <td>female</td>\n",
       "      <td>26.0</td>\n",
       "      <td>0</td>\n",
       "      <td>0</td>\n",
       "      <td>STON/O2. 3101282</td>\n",
       "      <td>7.9250</td>\n",
       "      <td>NaN</td>\n",
       "      <td>S</td>\n",
       "    </tr>\n",
       "    <tr>\n",
       "      <th>3</th>\n",
       "      <td>4</td>\n",
       "      <td>1</td>\n",
       "      <td>1</td>\n",
       "      <td>Futrelle, Mrs. Jacques Heath (Lily May Peel)</td>\n",
       "      <td>female</td>\n",
       "      <td>35.0</td>\n",
       "      <td>1</td>\n",
       "      <td>0</td>\n",
       "      <td>113803</td>\n",
       "      <td>53.1000</td>\n",
       "      <td>C123</td>\n",
       "      <td>S</td>\n",
       "    </tr>\n",
       "    <tr>\n",
       "      <th>4</th>\n",
       "      <td>5</td>\n",
       "      <td>0</td>\n",
       "      <td>3</td>\n",
       "      <td>Allen, Mr. William Henry</td>\n",
       "      <td>male</td>\n",
       "      <td>35.0</td>\n",
       "      <td>0</td>\n",
       "      <td>0</td>\n",
       "      <td>373450</td>\n",
       "      <td>8.0500</td>\n",
       "      <td>NaN</td>\n",
       "      <td>S</td>\n",
       "    </tr>\n",
       "  </tbody>\n",
       "</table>\n",
       "</div>"
      ],
      "text/plain": [
       "   PassengerId  Survived  Pclass  \\\n",
       "0            1         0       3   \n",
       "1            2         1       1   \n",
       "2            3         1       3   \n",
       "3            4         1       1   \n",
       "4            5         0       3   \n",
       "\n",
       "                                                Name     Sex   Age  SibSp  \\\n",
       "0                            Braund, Mr. Owen Harris    male  22.0      1   \n",
       "1  Cumings, Mrs. John Bradley (Florence Briggs Th...  female  38.0      1   \n",
       "2                             Heikkinen, Miss. Laina  female  26.0      0   \n",
       "3       Futrelle, Mrs. Jacques Heath (Lily May Peel)  female  35.0      1   \n",
       "4                           Allen, Mr. William Henry    male  35.0      0   \n",
       "\n",
       "   Parch            Ticket     Fare Cabin Embarked  \n",
       "0      0         A/5 21171   7.2500   NaN        S  \n",
       "1      0          PC 17599  71.2833   C85        C  \n",
       "2      0  STON/O2. 3101282   7.9250   NaN        S  \n",
       "3      0            113803  53.1000  C123        S  \n",
       "4      0            373450   8.0500   NaN        S  "
      ]
     },
     "execution_count": 122,
     "metadata": {},
     "output_type": "execute_result"
    }
   ],
   "source": [
    "raw_data = pd.read_csv('train.csv')\n",
    "raw_data.head()"
   ]
  },
  {
   "cell_type": "markdown",
   "id": "7e7472eb",
   "metadata": {},
   "source": [
    "### 2. Удалите все пропущенные значения и категориальные переменные. Обучите модель. Выберете и посчитайте метрику качества.\n"
   ]
  },
  {
   "cell_type": "code",
   "execution_count": 123,
   "id": "a31448ad",
   "metadata": {},
   "outputs": [
    {
     "name": "stdout",
     "output_type": "stream",
     "text": [
      "<class 'pandas.core.frame.DataFrame'>\n",
      "RangeIndex: 891 entries, 0 to 890\n",
      "Data columns (total 12 columns):\n",
      " #   Column       Non-Null Count  Dtype  \n",
      "---  ------       --------------  -----  \n",
      " 0   PassengerId  891 non-null    int64  \n",
      " 1   Survived     891 non-null    int64  \n",
      " 2   Pclass       891 non-null    int64  \n",
      " 3   Name         891 non-null    object \n",
      " 4   Sex          891 non-null    object \n",
      " 5   Age          714 non-null    float64\n",
      " 6   SibSp        891 non-null    int64  \n",
      " 7   Parch        891 non-null    int64  \n",
      " 8   Ticket       891 non-null    object \n",
      " 9   Fare         891 non-null    float64\n",
      " 10  Cabin        204 non-null    object \n",
      " 11  Embarked     889 non-null    object \n",
      "dtypes: float64(2), int64(5), object(5)\n",
      "memory usage: 83.7+ KB\n"
     ]
    }
   ],
   "source": [
    "raw_data.info()"
   ]
  },
  {
   "cell_type": "code",
   "execution_count": 124,
   "id": "e399ecc4",
   "metadata": {},
   "outputs": [
    {
     "name": "stdout",
     "output_type": "stream",
     "text": [
      "<class 'pandas.core.frame.DataFrame'>\n",
      "RangeIndex: 891 entries, 0 to 890\n",
      "Data columns (total 5 columns):\n",
      " #   Column    Non-Null Count  Dtype  \n",
      "---  ------    --------------  -----  \n",
      " 0   Survived  891 non-null    int64  \n",
      " 1   Age       714 non-null    float64\n",
      " 2   SibSp     891 non-null    int64  \n",
      " 3   Parch     891 non-null    int64  \n",
      " 4   Fare      891 non-null    float64\n",
      "dtypes: float64(2), int64(3)\n",
      "memory usage: 34.9 KB\n"
     ]
    }
   ],
   "source": [
    "# Удаляем категориальные\n",
    "raw_data.drop(columns=['PassengerId', 'Pclass', 'Name', 'Sex', 'Ticket', 'Cabin', 'Embarked'], inplace=True)\n",
    "raw_data.info()"
   ]
  },
  {
   "cell_type": "code",
   "execution_count": 125,
   "id": "4e461d7a",
   "metadata": {},
   "outputs": [
    {
     "name": "stdout",
     "output_type": "stream",
     "text": [
      "<class 'pandas.core.frame.DataFrame'>\n",
      "Int64Index: 714 entries, 0 to 890\n",
      "Data columns (total 5 columns):\n",
      " #   Column    Non-Null Count  Dtype  \n",
      "---  ------    --------------  -----  \n",
      " 0   Survived  714 non-null    int64  \n",
      " 1   Age       714 non-null    float64\n",
      " 2   SibSp     714 non-null    int64  \n",
      " 3   Parch     714 non-null    int64  \n",
      " 4   Fare      714 non-null    float64\n",
      "dtypes: float64(2), int64(3)\n",
      "memory usage: 33.5 KB\n"
     ]
    }
   ],
   "source": [
    "# Удаляем нули\n",
    "raw_data = raw_data.dropna()\n",
    "raw_data.info()"
   ]
  },
  {
   "cell_type": "code",
   "execution_count": 166,
   "id": "afde3a2a",
   "metadata": {},
   "outputs": [],
   "source": [
    "# Разделим данные на Х и у\n",
    "X = raw_data[['Age', 'SibSp', 'Parch', 'Fare']]\n",
    "y = raw_data['Survived']\n",
    "\n",
    "X_train, X_test, y_train, y_test = train_test_split(X, y, test_size=0.2, random_state=21)"
   ]
  },
  {
   "cell_type": "code",
   "execution_count": 167,
   "id": "62eb41b1",
   "metadata": {},
   "outputs": [
    {
     "data": {
      "text/plain": [
       "LogisticRegression()"
      ]
     },
     "execution_count": 167,
     "metadata": {},
     "output_type": "execute_result"
    }
   ],
   "source": [
    "# Обучим модель\n",
    "model = LogisticRegression()\n",
    "model.fit(X_train, y_train)"
   ]
  },
  {
   "cell_type": "code",
   "execution_count": 171,
   "id": "42609c67",
   "metadata": {},
   "outputs": [
    {
     "data": {
      "text/plain": [
       "0.7286163522012579"
      ]
     },
     "execution_count": 171,
     "metadata": {},
     "output_type": "execute_result"
    }
   ],
   "source": [
    "# В качестве метрики посчитали ROC AUC\n",
    "predictions = model.predict_proba(X_test)\n",
    "roc_auc_score(y_test, predictions[:, 1])"
   ]
  },
  {
   "cell_type": "markdown",
   "id": "ec0ac8ef",
   "metadata": {},
   "source": [
    "### 3.Снова загрузите полные данные.\n"
   ]
  },
  {
   "cell_type": "code",
   "execution_count": 129,
   "id": "bb904bce",
   "metadata": {},
   "outputs": [
    {
     "data": {
      "text/html": [
       "<div>\n",
       "<style scoped>\n",
       "    .dataframe tbody tr th:only-of-type {\n",
       "        vertical-align: middle;\n",
       "    }\n",
       "\n",
       "    .dataframe tbody tr th {\n",
       "        vertical-align: top;\n",
       "    }\n",
       "\n",
       "    .dataframe thead th {\n",
       "        text-align: right;\n",
       "    }\n",
       "</style>\n",
       "<table border=\"1\" class=\"dataframe\">\n",
       "  <thead>\n",
       "    <tr style=\"text-align: right;\">\n",
       "      <th></th>\n",
       "      <th>PassengerId</th>\n",
       "      <th>Survived</th>\n",
       "      <th>Pclass</th>\n",
       "      <th>Name</th>\n",
       "      <th>Sex</th>\n",
       "      <th>Age</th>\n",
       "      <th>SibSp</th>\n",
       "      <th>Parch</th>\n",
       "      <th>Ticket</th>\n",
       "      <th>Fare</th>\n",
       "      <th>Cabin</th>\n",
       "      <th>Embarked</th>\n",
       "    </tr>\n",
       "  </thead>\n",
       "  <tbody>\n",
       "    <tr>\n",
       "      <th>0</th>\n",
       "      <td>1</td>\n",
       "      <td>0</td>\n",
       "      <td>3</td>\n",
       "      <td>Braund, Mr. Owen Harris</td>\n",
       "      <td>male</td>\n",
       "      <td>22.0</td>\n",
       "      <td>1</td>\n",
       "      <td>0</td>\n",
       "      <td>A/5 21171</td>\n",
       "      <td>7.2500</td>\n",
       "      <td>NaN</td>\n",
       "      <td>S</td>\n",
       "    </tr>\n",
       "    <tr>\n",
       "      <th>1</th>\n",
       "      <td>2</td>\n",
       "      <td>1</td>\n",
       "      <td>1</td>\n",
       "      <td>Cumings, Mrs. John Bradley (Florence Briggs Th...</td>\n",
       "      <td>female</td>\n",
       "      <td>38.0</td>\n",
       "      <td>1</td>\n",
       "      <td>0</td>\n",
       "      <td>PC 17599</td>\n",
       "      <td>71.2833</td>\n",
       "      <td>C85</td>\n",
       "      <td>C</td>\n",
       "    </tr>\n",
       "    <tr>\n",
       "      <th>2</th>\n",
       "      <td>3</td>\n",
       "      <td>1</td>\n",
       "      <td>3</td>\n",
       "      <td>Heikkinen, Miss. Laina</td>\n",
       "      <td>female</td>\n",
       "      <td>26.0</td>\n",
       "      <td>0</td>\n",
       "      <td>0</td>\n",
       "      <td>STON/O2. 3101282</td>\n",
       "      <td>7.9250</td>\n",
       "      <td>NaN</td>\n",
       "      <td>S</td>\n",
       "    </tr>\n",
       "    <tr>\n",
       "      <th>3</th>\n",
       "      <td>4</td>\n",
       "      <td>1</td>\n",
       "      <td>1</td>\n",
       "      <td>Futrelle, Mrs. Jacques Heath (Lily May Peel)</td>\n",
       "      <td>female</td>\n",
       "      <td>35.0</td>\n",
       "      <td>1</td>\n",
       "      <td>0</td>\n",
       "      <td>113803</td>\n",
       "      <td>53.1000</td>\n",
       "      <td>C123</td>\n",
       "      <td>S</td>\n",
       "    </tr>\n",
       "    <tr>\n",
       "      <th>4</th>\n",
       "      <td>5</td>\n",
       "      <td>0</td>\n",
       "      <td>3</td>\n",
       "      <td>Allen, Mr. William Henry</td>\n",
       "      <td>male</td>\n",
       "      <td>35.0</td>\n",
       "      <td>0</td>\n",
       "      <td>0</td>\n",
       "      <td>373450</td>\n",
       "      <td>8.0500</td>\n",
       "      <td>NaN</td>\n",
       "      <td>S</td>\n",
       "    </tr>\n",
       "    <tr>\n",
       "      <th>...</th>\n",
       "      <td>...</td>\n",
       "      <td>...</td>\n",
       "      <td>...</td>\n",
       "      <td>...</td>\n",
       "      <td>...</td>\n",
       "      <td>...</td>\n",
       "      <td>...</td>\n",
       "      <td>...</td>\n",
       "      <td>...</td>\n",
       "      <td>...</td>\n",
       "      <td>...</td>\n",
       "      <td>...</td>\n",
       "    </tr>\n",
       "    <tr>\n",
       "      <th>886</th>\n",
       "      <td>887</td>\n",
       "      <td>0</td>\n",
       "      <td>2</td>\n",
       "      <td>Montvila, Rev. Juozas</td>\n",
       "      <td>male</td>\n",
       "      <td>27.0</td>\n",
       "      <td>0</td>\n",
       "      <td>0</td>\n",
       "      <td>211536</td>\n",
       "      <td>13.0000</td>\n",
       "      <td>NaN</td>\n",
       "      <td>S</td>\n",
       "    </tr>\n",
       "    <tr>\n",
       "      <th>887</th>\n",
       "      <td>888</td>\n",
       "      <td>1</td>\n",
       "      <td>1</td>\n",
       "      <td>Graham, Miss. Margaret Edith</td>\n",
       "      <td>female</td>\n",
       "      <td>19.0</td>\n",
       "      <td>0</td>\n",
       "      <td>0</td>\n",
       "      <td>112053</td>\n",
       "      <td>30.0000</td>\n",
       "      <td>B42</td>\n",
       "      <td>S</td>\n",
       "    </tr>\n",
       "    <tr>\n",
       "      <th>888</th>\n",
       "      <td>889</td>\n",
       "      <td>0</td>\n",
       "      <td>3</td>\n",
       "      <td>Johnston, Miss. Catherine Helen \"Carrie\"</td>\n",
       "      <td>female</td>\n",
       "      <td>NaN</td>\n",
       "      <td>1</td>\n",
       "      <td>2</td>\n",
       "      <td>W./C. 6607</td>\n",
       "      <td>23.4500</td>\n",
       "      <td>NaN</td>\n",
       "      <td>S</td>\n",
       "    </tr>\n",
       "    <tr>\n",
       "      <th>889</th>\n",
       "      <td>890</td>\n",
       "      <td>1</td>\n",
       "      <td>1</td>\n",
       "      <td>Behr, Mr. Karl Howell</td>\n",
       "      <td>male</td>\n",
       "      <td>26.0</td>\n",
       "      <td>0</td>\n",
       "      <td>0</td>\n",
       "      <td>111369</td>\n",
       "      <td>30.0000</td>\n",
       "      <td>C148</td>\n",
       "      <td>C</td>\n",
       "    </tr>\n",
       "    <tr>\n",
       "      <th>890</th>\n",
       "      <td>891</td>\n",
       "      <td>0</td>\n",
       "      <td>3</td>\n",
       "      <td>Dooley, Mr. Patrick</td>\n",
       "      <td>male</td>\n",
       "      <td>32.0</td>\n",
       "      <td>0</td>\n",
       "      <td>0</td>\n",
       "      <td>370376</td>\n",
       "      <td>7.7500</td>\n",
       "      <td>NaN</td>\n",
       "      <td>Q</td>\n",
       "    </tr>\n",
       "  </tbody>\n",
       "</table>\n",
       "<p>891 rows × 12 columns</p>\n",
       "</div>"
      ],
      "text/plain": [
       "     PassengerId  Survived  Pclass  \\\n",
       "0              1         0       3   \n",
       "1              2         1       1   \n",
       "2              3         1       3   \n",
       "3              4         1       1   \n",
       "4              5         0       3   \n",
       "..           ...       ...     ...   \n",
       "886          887         0       2   \n",
       "887          888         1       1   \n",
       "888          889         0       3   \n",
       "889          890         1       1   \n",
       "890          891         0       3   \n",
       "\n",
       "                                                  Name     Sex   Age  SibSp  \\\n",
       "0                              Braund, Mr. Owen Harris    male  22.0      1   \n",
       "1    Cumings, Mrs. John Bradley (Florence Briggs Th...  female  38.0      1   \n",
       "2                               Heikkinen, Miss. Laina  female  26.0      0   \n",
       "3         Futrelle, Mrs. Jacques Heath (Lily May Peel)  female  35.0      1   \n",
       "4                             Allen, Mr. William Henry    male  35.0      0   \n",
       "..                                                 ...     ...   ...    ...   \n",
       "886                              Montvila, Rev. Juozas    male  27.0      0   \n",
       "887                       Graham, Miss. Margaret Edith  female  19.0      0   \n",
       "888           Johnston, Miss. Catherine Helen \"Carrie\"  female   NaN      1   \n",
       "889                              Behr, Mr. Karl Howell    male  26.0      0   \n",
       "890                                Dooley, Mr. Patrick    male  32.0      0   \n",
       "\n",
       "     Parch            Ticket     Fare Cabin Embarked  \n",
       "0        0         A/5 21171   7.2500   NaN        S  \n",
       "1        0          PC 17599  71.2833   C85        C  \n",
       "2        0  STON/O2. 3101282   7.9250   NaN        S  \n",
       "3        0            113803  53.1000  C123        S  \n",
       "4        0            373450   8.0500   NaN        S  \n",
       "..     ...               ...      ...   ...      ...  \n",
       "886      0            211536  13.0000   NaN        S  \n",
       "887      0            112053  30.0000   B42        S  \n",
       "888      2        W./C. 6607  23.4500   NaN        S  \n",
       "889      0            111369  30.0000  C148        C  \n",
       "890      0            370376   7.7500   NaN        Q  \n",
       "\n",
       "[891 rows x 12 columns]"
      ]
     },
     "execution_count": 129,
     "metadata": {},
     "output_type": "execute_result"
    }
   ],
   "source": [
    "data = pd.read_csv('train.csv')\n",
    "data"
   ]
  },
  {
   "cell_type": "markdown",
   "id": "380b8a2c",
   "metadata": {},
   "source": [
    "### 4. Удалите признаки, которые логически не нужны для построения модели. Обоснуйте.\n"
   ]
  },
  {
   "cell_type": "code",
   "execution_count": 130,
   "id": "f50d14be",
   "metadata": {},
   "outputs": [],
   "source": [
    "'''\n",
    "Id Нам не нужен, так как это просто порядковый номер в нашем датасете. Имя также никак не влияет на исход.\n",
    "Номер билета и каюта не являются значимыми, в отличии скажем от класса каюты.\n",
    "'''\n",
    "data = data.drop(columns=['PassengerId', 'Name', 'Ticket', 'Cabin'])"
   ]
  },
  {
   "cell_type": "markdown",
   "id": "0ff4589a",
   "metadata": {},
   "source": [
    "### 5. Проверьте данные на наличие пропущенных значений.\n",
    "a) Посчитайте, какой процент данных будет потерян, если просто удалить пропуски.\n"
   ]
  },
  {
   "cell_type": "code",
   "execution_count": 131,
   "id": "6f964c94",
   "metadata": {},
   "outputs": [
    {
     "name": "stdout",
     "output_type": "stream",
     "text": [
      "<class 'pandas.core.frame.DataFrame'>\n",
      "RangeIndex: 891 entries, 0 to 890\n",
      "Data columns (total 8 columns):\n",
      " #   Column    Non-Null Count  Dtype  \n",
      "---  ------    --------------  -----  \n",
      " 0   Survived  891 non-null    int64  \n",
      " 1   Pclass    891 non-null    int64  \n",
      " 2   Sex       891 non-null    object \n",
      " 3   Age       714 non-null    float64\n",
      " 4   SibSp     891 non-null    int64  \n",
      " 5   Parch     891 non-null    int64  \n",
      " 6   Fare      891 non-null    float64\n",
      " 7   Embarked  889 non-null    object \n",
      "dtypes: float64(2), int64(4), object(2)\n",
      "memory usage: 55.8+ KB\n"
     ]
    }
   ],
   "source": [
    "data.info()"
   ]
  },
  {
   "cell_type": "code",
   "execution_count": 132,
   "id": "60b02038",
   "metadata": {},
   "outputs": [],
   "source": [
    "losted_data = data.dropna().shape[0]*data.dropna().shape[1]\n",
    "total_data = data.shape[0]*data.shape[1]"
   ]
  },
  {
   "cell_type": "code",
   "execution_count": 133,
   "id": "e3fb8a85",
   "metadata": {},
   "outputs": [
    {
     "name": "stdout",
     "output_type": "stream",
     "text": [
      "Потеря данных: 20.0898%\n"
     ]
    }
   ],
   "source": [
    "percent = 100 - (losted_data / total_data * 100)\n",
    "print(f'Потеря данных: {round(percent, 4)}%')"
   ]
  },
  {
   "cell_type": "markdown",
   "id": "a093e761",
   "metadata": {},
   "source": [
    "b) Заполните пропуски: средним значением; константой; классом, указывающим на то, что значение было пропущено; случайным числом. Для разных признаков используйте подходящий метод. Можно не использовать все перечисленные методы.\n"
   ]
  },
  {
   "cell_type": "code",
   "execution_count": 134,
   "id": "8f40ce75",
   "metadata": {},
   "outputs": [
    {
     "name": "stdout",
     "output_type": "stream",
     "text": [
      "24.0\n",
      "29.69911764705882\n",
      "28.0\n",
      "14.526497332334044\n",
      "24.0    30\n",
      "22.0    27\n",
      "18.0    26\n",
      "19.0    25\n",
      "28.0    25\n",
      "Name: Age, dtype: int64\n"
     ]
    }
   ],
   "source": [
    "# Посчитаем метрики\n",
    "print(data['Age'].mode()[0])\n",
    "print(data['Age'].mean())\n",
    "print(data['Age'].median())\n",
    "print(np.std(data['Age'], ddof=1))\n",
    "print(data['Age'].value_counts().head(5))"
   ]
  },
  {
   "cell_type": "code",
   "execution_count": 135,
   "id": "12488600",
   "metadata": {},
   "outputs": [
    {
     "name": "stdout",
     "output_type": "stream",
     "text": [
      "28.0\n",
      "29.36158249158249\n",
      "28.0\n",
      "13.019696550973194\n",
      "28.0    202\n",
      "24.0     30\n",
      "22.0     27\n",
      "18.0     26\n",
      "19.0     25\n",
      "Name: Age, dtype: int64\n"
     ]
    }
   ],
   "source": [
    "# Заменим медианой и посчитаем метрики заново. Видими что перекос невысокий (Хотя мода сместилась на 4 пункта). Оставляем.\n",
    "\n",
    "data['Age'] = data['Age'].fillna(data['Age'].median())\n",
    "\n",
    "print(data['Age'].mode()[0])\n",
    "print(data['Age'].mean())\n",
    "print(data['Age'].median())\n",
    "print(np.std(data['Age'], ddof=1))\n",
    "print(data['Age'].value_counts().head(5))"
   ]
  },
  {
   "cell_type": "code",
   "execution_count": 136,
   "id": "a2b57594",
   "metadata": {},
   "outputs": [
    {
     "name": "stdout",
     "output_type": "stream",
     "text": [
      "S\n",
      "S    644\n",
      "C    168\n",
      "Q     77\n",
      "Name: Embarked, dtype: int64\n"
     ]
    }
   ],
   "source": [
    "# По метрикам видим что мода (с подавляющим отрывом) в классе S. \n",
    "print(data['Embarked'].mode()[0])\n",
    "print(data['Embarked'].value_counts().head(5))"
   ]
  },
  {
   "cell_type": "code",
   "execution_count": 137,
   "id": "16e7ad02",
   "metadata": {},
   "outputs": [],
   "source": [
    "# заменим наши 2 пропуска ей.\n",
    "data['Embarked'] = data['Embarked'].fillna('S')"
   ]
  },
  {
   "cell_type": "code",
   "execution_count": 138,
   "id": "1a0e74e9",
   "metadata": {},
   "outputs": [
    {
     "name": "stdout",
     "output_type": "stream",
     "text": [
      "<class 'pandas.core.frame.DataFrame'>\n",
      "RangeIndex: 891 entries, 0 to 890\n",
      "Data columns (total 8 columns):\n",
      " #   Column    Non-Null Count  Dtype  \n",
      "---  ------    --------------  -----  \n",
      " 0   Survived  891 non-null    int64  \n",
      " 1   Pclass    891 non-null    int64  \n",
      " 2   Sex       891 non-null    object \n",
      " 3   Age       891 non-null    float64\n",
      " 4   SibSp     891 non-null    int64  \n",
      " 5   Parch     891 non-null    int64  \n",
      " 6   Fare      891 non-null    float64\n",
      " 7   Embarked  891 non-null    object \n",
      "dtypes: float64(2), int64(4), object(2)\n",
      "memory usage: 55.8+ KB\n"
     ]
    }
   ],
   "source": [
    "data.info()"
   ]
  },
  {
   "cell_type": "markdown",
   "id": "dc871199",
   "metadata": {},
   "source": [
    "### 6. Категориальные переменные переведите в цифровые значения. Можно использовать pd.get_dummies, preprocessing.LabelEncoder. Старайтесь не использовать для этой задачи циклы.\n"
   ]
  },
  {
   "cell_type": "code",
   "execution_count": 139,
   "id": "cc29fe02",
   "metadata": {},
   "outputs": [
    {
     "data": {
      "text/html": [
       "<div>\n",
       "<style scoped>\n",
       "    .dataframe tbody tr th:only-of-type {\n",
       "        vertical-align: middle;\n",
       "    }\n",
       "\n",
       "    .dataframe tbody tr th {\n",
       "        vertical-align: top;\n",
       "    }\n",
       "\n",
       "    .dataframe thead th {\n",
       "        text-align: right;\n",
       "    }\n",
       "</style>\n",
       "<table border=\"1\" class=\"dataframe\">\n",
       "  <thead>\n",
       "    <tr style=\"text-align: right;\">\n",
       "      <th></th>\n",
       "      <th>Survived</th>\n",
       "      <th>Pclass</th>\n",
       "      <th>Sex</th>\n",
       "      <th>Age</th>\n",
       "      <th>SibSp</th>\n",
       "      <th>Parch</th>\n",
       "      <th>Fare</th>\n",
       "      <th>Embarked</th>\n",
       "    </tr>\n",
       "  </thead>\n",
       "  <tbody>\n",
       "    <tr>\n",
       "      <th>0</th>\n",
       "      <td>0</td>\n",
       "      <td>3</td>\n",
       "      <td>male</td>\n",
       "      <td>22.0</td>\n",
       "      <td>1</td>\n",
       "      <td>0</td>\n",
       "      <td>7.2500</td>\n",
       "      <td>S</td>\n",
       "    </tr>\n",
       "    <tr>\n",
       "      <th>1</th>\n",
       "      <td>1</td>\n",
       "      <td>1</td>\n",
       "      <td>female</td>\n",
       "      <td>38.0</td>\n",
       "      <td>1</td>\n",
       "      <td>0</td>\n",
       "      <td>71.2833</td>\n",
       "      <td>C</td>\n",
       "    </tr>\n",
       "    <tr>\n",
       "      <th>2</th>\n",
       "      <td>1</td>\n",
       "      <td>3</td>\n",
       "      <td>female</td>\n",
       "      <td>26.0</td>\n",
       "      <td>0</td>\n",
       "      <td>0</td>\n",
       "      <td>7.9250</td>\n",
       "      <td>S</td>\n",
       "    </tr>\n",
       "    <tr>\n",
       "      <th>3</th>\n",
       "      <td>1</td>\n",
       "      <td>1</td>\n",
       "      <td>female</td>\n",
       "      <td>35.0</td>\n",
       "      <td>1</td>\n",
       "      <td>0</td>\n",
       "      <td>53.1000</td>\n",
       "      <td>S</td>\n",
       "    </tr>\n",
       "    <tr>\n",
       "      <th>4</th>\n",
       "      <td>0</td>\n",
       "      <td>3</td>\n",
       "      <td>male</td>\n",
       "      <td>35.0</td>\n",
       "      <td>0</td>\n",
       "      <td>0</td>\n",
       "      <td>8.0500</td>\n",
       "      <td>S</td>\n",
       "    </tr>\n",
       "  </tbody>\n",
       "</table>\n",
       "</div>"
      ],
      "text/plain": [
       "   Survived  Pclass     Sex   Age  SibSp  Parch     Fare Embarked\n",
       "0         0       3    male  22.0      1      0   7.2500        S\n",
       "1         1       1  female  38.0      1      0  71.2833        C\n",
       "2         1       3  female  26.0      0      0   7.9250        S\n",
       "3         1       1  female  35.0      1      0  53.1000        S\n",
       "4         0       3    male  35.0      0      0   8.0500        S"
      ]
     },
     "execution_count": 139,
     "metadata": {},
     "output_type": "execute_result"
    }
   ],
   "source": [
    "data.head()"
   ]
  },
  {
   "cell_type": "code",
   "execution_count": 140,
   "id": "3c9d5694",
   "metadata": {},
   "outputs": [],
   "source": [
    "# get dummies\n",
    "data = pd.get_dummies(data, columns=['Pclass', 'Embarked'])"
   ]
  },
  {
   "cell_type": "code",
   "execution_count": 141,
   "id": "b7b314c9",
   "metadata": {},
   "outputs": [],
   "source": [
    "# Label encoder\n",
    "le = LabelEncoder()\n",
    "le.fit(data['Sex'])\n",
    "le.classes_\n",
    "\n",
    "data['Sex'] = pd.Series(data=le.transform(data['Sex']))"
   ]
  },
  {
   "cell_type": "code",
   "execution_count": 142,
   "id": "19fd0aed",
   "metadata": {},
   "outputs": [
    {
     "data": {
      "text/html": [
       "<div>\n",
       "<style scoped>\n",
       "    .dataframe tbody tr th:only-of-type {\n",
       "        vertical-align: middle;\n",
       "    }\n",
       "\n",
       "    .dataframe tbody tr th {\n",
       "        vertical-align: top;\n",
       "    }\n",
       "\n",
       "    .dataframe thead th {\n",
       "        text-align: right;\n",
       "    }\n",
       "</style>\n",
       "<table border=\"1\" class=\"dataframe\">\n",
       "  <thead>\n",
       "    <tr style=\"text-align: right;\">\n",
       "      <th></th>\n",
       "      <th>Survived</th>\n",
       "      <th>Sex</th>\n",
       "      <th>Age</th>\n",
       "      <th>SibSp</th>\n",
       "      <th>Parch</th>\n",
       "      <th>Fare</th>\n",
       "      <th>Pclass_1</th>\n",
       "      <th>Pclass_2</th>\n",
       "      <th>Pclass_3</th>\n",
       "      <th>Embarked_C</th>\n",
       "      <th>Embarked_Q</th>\n",
       "      <th>Embarked_S</th>\n",
       "    </tr>\n",
       "  </thead>\n",
       "  <tbody>\n",
       "    <tr>\n",
       "      <th>0</th>\n",
       "      <td>0</td>\n",
       "      <td>1</td>\n",
       "      <td>22.0</td>\n",
       "      <td>1</td>\n",
       "      <td>0</td>\n",
       "      <td>7.2500</td>\n",
       "      <td>0</td>\n",
       "      <td>0</td>\n",
       "      <td>1</td>\n",
       "      <td>0</td>\n",
       "      <td>0</td>\n",
       "      <td>1</td>\n",
       "    </tr>\n",
       "    <tr>\n",
       "      <th>1</th>\n",
       "      <td>1</td>\n",
       "      <td>0</td>\n",
       "      <td>38.0</td>\n",
       "      <td>1</td>\n",
       "      <td>0</td>\n",
       "      <td>71.2833</td>\n",
       "      <td>1</td>\n",
       "      <td>0</td>\n",
       "      <td>0</td>\n",
       "      <td>1</td>\n",
       "      <td>0</td>\n",
       "      <td>0</td>\n",
       "    </tr>\n",
       "    <tr>\n",
       "      <th>2</th>\n",
       "      <td>1</td>\n",
       "      <td>0</td>\n",
       "      <td>26.0</td>\n",
       "      <td>0</td>\n",
       "      <td>0</td>\n",
       "      <td>7.9250</td>\n",
       "      <td>0</td>\n",
       "      <td>0</td>\n",
       "      <td>1</td>\n",
       "      <td>0</td>\n",
       "      <td>0</td>\n",
       "      <td>1</td>\n",
       "    </tr>\n",
       "    <tr>\n",
       "      <th>3</th>\n",
       "      <td>1</td>\n",
       "      <td>0</td>\n",
       "      <td>35.0</td>\n",
       "      <td>1</td>\n",
       "      <td>0</td>\n",
       "      <td>53.1000</td>\n",
       "      <td>1</td>\n",
       "      <td>0</td>\n",
       "      <td>0</td>\n",
       "      <td>0</td>\n",
       "      <td>0</td>\n",
       "      <td>1</td>\n",
       "    </tr>\n",
       "    <tr>\n",
       "      <th>4</th>\n",
       "      <td>0</td>\n",
       "      <td>1</td>\n",
       "      <td>35.0</td>\n",
       "      <td>0</td>\n",
       "      <td>0</td>\n",
       "      <td>8.0500</td>\n",
       "      <td>0</td>\n",
       "      <td>0</td>\n",
       "      <td>1</td>\n",
       "      <td>0</td>\n",
       "      <td>0</td>\n",
       "      <td>1</td>\n",
       "    </tr>\n",
       "  </tbody>\n",
       "</table>\n",
       "</div>"
      ],
      "text/plain": [
       "   Survived  Sex   Age  SibSp  Parch     Fare  Pclass_1  Pclass_2  Pclass_3  \\\n",
       "0         0    1  22.0      1      0   7.2500         0         0         1   \n",
       "1         1    0  38.0      1      0  71.2833         1         0         0   \n",
       "2         1    0  26.0      0      0   7.9250         0         0         1   \n",
       "3         1    0  35.0      1      0  53.1000         1         0         0   \n",
       "4         0    1  35.0      0      0   8.0500         0         0         1   \n",
       "\n",
       "   Embarked_C  Embarked_Q  Embarked_S  \n",
       "0           0           0           1  \n",
       "1           1           0           0  \n",
       "2           0           0           1  \n",
       "3           0           0           1  \n",
       "4           0           0           1  "
      ]
     },
     "execution_count": 142,
     "metadata": {},
     "output_type": "execute_result"
    }
   ],
   "source": [
    "data.head()"
   ]
  },
  {
   "cell_type": "markdown",
   "id": "2b80805a",
   "metadata": {},
   "source": [
    "### 7. Проверьте данные на наличие выбросов.\n",
    "a) Удалите выбросы, если считаете это целесообразным. Обоснуйте.\n"
   ]
  },
  {
   "cell_type": "code",
   "execution_count": 143,
   "id": "e059ac77",
   "metadata": {},
   "outputs": [
    {
     "name": "stdout",
     "output_type": "stream",
     "text": [
      "66\n",
      "2.00     10\n",
      "1.00      7\n",
      "58.00     5\n",
      "60.00     4\n",
      "62.00     4\n",
      "56.00     4\n",
      "61.00     3\n",
      "65.00     3\n",
      "59.00     2\n",
      "0.83      2\n",
      "70.00     2\n",
      "63.00     2\n",
      "71.00     2\n",
      "55.00     2\n",
      "64.00     2\n",
      "0.75      2\n",
      "57.00     2\n",
      "80.00     1\n",
      "0.42      1\n",
      "0.67      1\n",
      "0.92      1\n",
      "66.00     1\n",
      "55.50     1\n",
      "70.50     1\n",
      "74.00     1\n",
      "Name: Age, dtype: int64\n",
      "[ 2.   58.   55.   66.   65.    0.83 59.   71.   70.5  55.5   1.   61.\n",
      " 56.   62.   63.    0.92 60.   64.    0.75 57.   80.   70.    0.67  0.42\n",
      " 74.  ]\n"
     ]
    },
    {
     "name": "stderr",
     "output_type": "stream",
     "text": [
      "C:\\Users\\voron\\AppData\\Local\\Temp/ipykernel_16736/1937474737.py:7: FutureWarning: Boolean inputs to the `inclusive` argument are deprecated infavour of `both` or `neither`.\n",
      "  rem_out1 = data[~data['Age'].between(low1, upp1, inclusive=True)]\n"
     ]
    }
   ],
   "source": [
    "# Считаем межквартильный размах. Видим выбросы, НО, так как речь о возрасте, то все низкие значения говорят \n",
    "# о младенцах и детях. Значений выше 80 также не обнаружено. 80 лет одному человек, что вполне себе реально. \n",
    "# Вывод - оставляем, все как есть.\n",
    "iqr1 = data['Age'].quantile(0.75) - data['Age'].quantile(0.25)\n",
    "low1 = data['Age'].quantile(0.25) - (1.5 * iqr1)\n",
    "upp1 = data['Age'].quantile(0.75) + (1.5 * iqr1)\n",
    "rem_out1 = data[~data['Age'].between(low1, upp1, inclusive=True)]\n",
    "print(len(rem_out1['Age']))\n",
    "print(rem_out1['Age'].value_counts())\n",
    "print(rem_out1['Age'].unique())"
   ]
  },
  {
   "cell_type": "code",
   "execution_count": 144,
   "id": "f7e3cf15",
   "metadata": {},
   "outputs": [
    {
     "name": "stdout",
     "output_type": "stream",
     "text": [
      "116\n",
      "69.5500     7\n",
      "73.5000     5\n",
      "110.8833    4\n",
      "151.5500    4\n",
      "263.0000    4\n",
      "120.0000    4\n",
      "79.2000     4\n",
      "227.5250    4\n",
      "90.0000     4\n",
      "211.3375    3\n",
      "86.5000     3\n",
      "77.9583     3\n",
      "135.6333    3\n",
      "153.4625    3\n",
      "79.6500     3\n",
      "512.3292    3\n",
      "83.1583     3\n",
      "113.2750    3\n",
      "76.7292     3\n",
      "164.8667    2\n",
      "89.1042     2\n",
      "78.2667     2\n",
      "93.5000     2\n",
      "133.6500    2\n",
      "106.4250    2\n",
      "71.0000     2\n",
      "134.5000    2\n",
      "69.3000     2\n",
      "78.8500     2\n",
      "262.3750    2\n",
      "108.9000    2\n",
      "91.0792     2\n",
      "66.6000     2\n",
      "247.5208    2\n",
      "77.2875     2\n",
      "83.4750     2\n",
      "80.0000     2\n",
      "82.1708     2\n",
      "146.5208    2\n",
      "75.2500     1\n",
      "76.2917     1\n",
      "211.5000    1\n",
      "81.8583     1\n",
      "221.7792    1\n",
      "71.2833     1\n",
      "Name: Fare, dtype: int64\n",
      "[ 71.2833 263.     146.5208  82.1708  76.7292  80.      83.475   73.5\n",
      "  77.2875 247.5208  79.2     66.6     69.55   113.275   76.2917  90.\n",
      "  86.5    512.3292  79.65   153.4625 135.6333  77.9583  78.85    91.0792\n",
      " 151.55   110.8833 108.9     83.1583 262.375  164.8667 134.5    133.65\n",
      "  75.25    69.3    211.5    227.525  120.      81.8583  89.1042  78.2667\n",
      "  93.5    221.7792 106.425   71.     211.3375]\n"
     ]
    },
    {
     "name": "stderr",
     "output_type": "stream",
     "text": [
      "C:\\Users\\voron\\AppData\\Local\\Temp/ipykernel_16736/3003471449.py:5: FutureWarning: Boolean inputs to the `inclusive` argument are deprecated infavour of `both` or `neither`.\n",
      "  rem_out2 = data[~data['Fare'].between(low2, upp2, inclusive=True)]\n"
     ]
    }
   ],
   "source": [
    "# Считаем межквартильный размах. \n",
    "iqr2 = data['Fare'].quantile(0.75) - data['Fare'].quantile(0.25)\n",
    "low2 = data['Fare'].quantile(0.25) - (1.5 * iqr2)\n",
    "upp2 = data['Fare'].quantile(0.75) + (1.5 * iqr2)\n",
    "rem_out2 = data[~data['Fare'].between(low2, upp2, inclusive=True)]\n",
    "print(len(rem_out2['Fare']))\n",
    "print(rem_out2['Fare'].value_counts())\n",
    "print(rem_out2['Fare'].unique())"
   ]
  },
  {
   "cell_type": "code",
   "execution_count": 145,
   "id": "e7a14ae0",
   "metadata": {},
   "outputs": [
    {
     "name": "stdout",
     "output_type": "stream",
     "text": [
      "8.05 --- 69.55\n",
      "32.2042079685746 --- 128.29162931034472\n",
      "14.4542 --- 90.0\n",
      "49.693428597180905 --- 84.63690766263493\n",
      "8.0500     43\n",
      "13.0000    42\n",
      "7.8958     38\n",
      "7.7500     34\n",
      "26.0000    31\n",
      "Name: Fare, dtype: int64 69.5500     7\n",
      "73.5000     5\n",
      "110.8833    4\n",
      "151.5500    4\n",
      "263.0000    4\n",
      "Name: Fare, dtype: int64\n"
     ]
    }
   ],
   "source": [
    "# Делавю доп. сравнение метрик\n",
    "print(data['Fare'].mode()[0], '---', rem_out2['Fare'].mode()[0])\n",
    "print(data['Fare'].mean(), '---', rem_out2['Fare'].mean())\n",
    "print(data['Fare'].median(), '---', rem_out2['Fare'].median())\n",
    "print(np.std(data['Fare'], ddof=1), '---', np.std(rem_out2['Fare'], ddof=1))\n",
    "print(data['Fare'].value_counts().head(5), rem_out2['Fare'].value_counts().head(5))"
   ]
  },
  {
   "cell_type": "code",
   "execution_count": 146,
   "id": "1704b48c",
   "metadata": {},
   "outputs": [
    {
     "name": "stdout",
     "output_type": "stream",
     "text": [
      "491 184 216\n"
     ]
    }
   ],
   "source": [
    "# Так как у нас есть много выбросов и все значения выше, примерно 70-80, считаются выбросами. Скорее всего, \n",
    "# это связано с тем что в последние дни продаж, билеты стали дорожать, особенно в дорогом классе.\n",
    "# Общее кол-во выбросов 116, а мы видим, что в каждом классе, минимум в полтора раза больше билетов.\n",
    "# Это моя субъективная логика. Думаю надо посмотреть несколько очень дорогих билетов и исключить их.\n",
    "print(data['Pclass_3'][data['Pclass_3'] == 1].count(),\n",
    "     data['Pclass_2'][data['Pclass_2'] == 1].count(),\n",
    "     data['Pclass_1'][data['Pclass_1'] == 1].count())"
   ]
  },
  {
   "cell_type": "code",
   "execution_count": 147,
   "id": "28a0d24a",
   "metadata": {},
   "outputs": [
    {
     "name": "stdout",
     "output_type": "stream",
     "text": [
      "3\n",
      "3\n",
      "3\n",
      "3\n",
      "3\n",
      "9\n",
      "20\n"
     ]
    }
   ],
   "source": [
    "print(data['Fare'][data['Fare'] > 500].count())\n",
    "print(data['Fare'][data['Fare'] > 450].count())\n",
    "print(data['Fare'][data['Fare'] > 400].count())\n",
    "print(data['Fare'][data['Fare'] > 350].count())\n",
    "print(data['Fare'][data['Fare'] > 300].count())\n",
    "print(data['Fare'][data['Fare'] > 250].count()) # Думаю можно остановится на этом пороге\n",
    "print(data['Fare'][data['Fare'] > 200].count())"
   ]
  },
  {
   "cell_type": "code",
   "execution_count": 148,
   "id": "3f7d7e3e",
   "metadata": {},
   "outputs": [],
   "source": [
    "data = data[data['Fare'] < 250]"
   ]
  },
  {
   "cell_type": "markdown",
   "id": "46b57696",
   "metadata": {},
   "source": [
    "### 8. *Постройте 1-2 графика на выбор. Визуализация должна быть основана на исследуемых данных и быть полезной (из графика можно сделать вывод об особенностях датасета/класса/признака)\n"
   ]
  },
  {
   "cell_type": "code",
   "execution_count": 231,
   "id": "91bff4da",
   "metadata": {
    "scrolled": false
   },
   "outputs": [
    {
     "data": {
      "image/png": "[encoded data removed]",
      "text/plain": [
       "<Figure size 360x360 with 1 Axes>"
      ]
     },
     "metadata": {
      "needs_background": "light"
     },
     "output_type": "display_data"
    }
   ],
   "source": [
    "sns.catplot(data = data, kind=\"bar\", x='Sex', y='Age')\n",
    "plt.title('Male/Female by Age', fontsize=16)\n",
    "plt.xlabel('Sex', fontsize=14)\n",
    "plt.ylabel('Age', fontsize=14)\n",
    "\n",
    "plt.show()"
   ]
  },
  {
   "cell_type": "markdown",
   "id": "209403bb",
   "metadata": {},
   "source": [
    "### 9. *Попробуйте математически преобразовать признак Age.\n"
   ]
  },
  {
   "cell_type": "code",
   "execution_count": 184,
   "id": "5ded1e10",
   "metadata": {},
   "outputs": [],
   "source": [
    "# Не совем понял о чем речь."
   ]
  },
  {
   "cell_type": "markdown",
   "id": "244c2ccf",
   "metadata": {},
   "source": [
    "### 10. Обучите ту же модель, что в п. 2 на преобразованных данных. Посчитайте ту же, что в п. 2 метрику.\n"
   ]
  },
  {
   "cell_type": "code",
   "execution_count": 169,
   "id": "5e6e16c0",
   "metadata": {},
   "outputs": [
    {
     "name": "stderr",
     "output_type": "stream",
     "text": [
      "D:\\DataSci\\anaconda3\\lib\\site-packages\\sklearn\\linear_model\\_logistic.py:763: ConvergenceWarning: lbfgs failed to converge (status=1):\n",
      "STOP: TOTAL NO. of ITERATIONS REACHED LIMIT.\n",
      "\n",
      "Increase the number of iterations (max_iter) or scale the data as shown in:\n",
      "    https://scikit-learn.org/stable/modules/preprocessing.html\n",
      "Please also refer to the documentation for alternative solver options:\n",
      "    https://scikit-learn.org/stable/modules/linear_model.html#logistic-regression\n",
      "  n_iter_i = _check_optimize_result(\n"
     ]
    },
    {
     "data": {
      "text/plain": [
       "0.9199946033459255"
      ]
     },
     "execution_count": 169,
     "metadata": {},
     "output_type": "execute_result"
    }
   ],
   "source": [
    "X1 = data[data.columns[1:]]\n",
    "y1 = data['Survived']\n",
    "\n",
    "X1_train, X1_test, y1_train, y1_test = train_test_split(X1, y1, test_size = 0.2, random_state = 21)\n",
    "\n",
    "model2 = LogisticRegression()\n",
    "model2.fit(X1_train, y1_train)\n",
    "\n",
    "predictions2 = model2.predict_proba(X1_test)\n",
    "roc_auc_score(y1_test, predictions2[:, 1])"
   ]
  },
  {
   "cell_type": "markdown",
   "id": "ec0c81fc",
   "metadata": {},
   "source": [
    "### 11. Сформулируйте выводы по проделанной работе.\n",
    "a) Кратко опишите какие преобразования были сделаны и почему.\n"
   ]
  },
  {
   "cell_type": "markdown",
   "id": "fcad82d0",
   "metadata": {},
   "source": [
    "1. Для начала мы убрали все ненужные данные / шумы, из нашего датасета, которые не несли веса для наших данных (Имена, номера билетов и кабин и т.д.)\n",
    "2. Далее мы нашли и заменили пропуски в данных на подходящие рассчитанные метрики.\n",
    "3. Преобразовали ктегории использую LabelEncoder и get_dummies.\n",
    "4. Изучили типы данных (все ли данные заполнены и имеют корректный формат) и на этом предобработка закончилась.\n",
    "5. далее задавали признаки, разбивали выборку, обучали ее и смотрели на метрику качества."
   ]
  },
  {
   "cell_type": "markdown",
   "id": "b658aa8f",
   "metadata": {},
   "source": [
    "b) Сравните метрики моделей из п. 2 и п. 10.\n"
   ]
  },
  {
   "cell_type": "code",
   "execution_count": 183,
   "id": "163793a7",
   "metadata": {},
   "outputs": [
    {
     "name": "stdout",
     "output_type": "stream",
     "text": [
      "Модель на \"гряных\" данных имеет точность ROC_AUC: 0.72862\n",
      "Модель предобработнная имеет точность ROC_AUC: 0.91999\n"
     ]
    }
   ],
   "source": [
    "print(f'Модель на \"гряных\" данных имеет точность ROC_AUC: {roc_auc_score(y_test, predictions[:, 1]):.5f}\\n\\\n",
    "Модель предобработнная имеет точность ROC_AUC: {roc_auc_score(y1_test, predictions2[:, 1]):.5f}', )"
   ]
  },
  {
   "cell_type": "markdown",
   "id": "9a8bcaff",
   "metadata": {},
   "source": [
    "c) Напишите свое мнение о целесообразности работы с данными при построении моделей машинного обучения. *Нужно ли аналогичным образов исследовать и дополнять действительно большие данные?"
   ]
  },
  {
   "cell_type": "markdown",
   "id": "eaf2b938",
   "metadata": {},
   "source": [
    "#### Предобработка дала нам выигрыш почти на 20 пунктов из 100 возможных, что на порядок улучшает точность наших предсказаний. На больших данных также необходим анализ, очитска и заполнение пропусков в данных.\n"
   ]
  }
 ],
 "metadata": {
  "kernelspec": {
   "display_name": "Python 3 (ipykernel)",
   "language": "python",
   "name": "python3"
  },
  "language_info": {
   "codemirror_mode": {
    "name": "ipython",
    "version": 3
   },
   "file_extension": ".py",
   "mimetype": "text/x-python",
   "name": "python",
   "nbconvert_exporter": "python",
   "pygments_lexer": "ipython3",
   "version": "3.9.7"
  }
 },
 "nbformat": 4,
 "nbformat_minor": 5
}
