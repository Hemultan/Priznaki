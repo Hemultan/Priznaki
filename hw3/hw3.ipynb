{
 "cells": [
  {
   "cell_type": "code",
   "execution_count": 31,
   "id": "1aa95f6c",
   "metadata": {},
   "outputs": [],
   "source": [
    "import numpy as np\n",
    "import pandas as pd\n",
    "import matplotlib.pyplot as plt\n",
    "from sklearn.model_selection import train_test_split\n",
    "from sklearn.linear_model import LogisticRegression\n",
    "from sklearn.metrics import recall_score, precision_score\n",
    "from sklearn.metrics import roc_curve\n",
    "from sklearn.metrics import roc_auc_score\n",
    "from sklearn.metrics import auc\n",
    "from sklearn.metrics import precision_recall_curve\n",
    "from pylab import rcParams\n",
    "rcParams['figure.figsize'] = 13, 8"
   ]
  },
  {
   "cell_type": "code",
   "execution_count": 2,
   "id": "bc7d9484",
   "metadata": {},
   "outputs": [
    {
     "data": {
      "text/html": [
       "<div>\n",
       "<style scoped>\n",
       "    .dataframe tbody tr th:only-of-type {\n",
       "        vertical-align: middle;\n",
       "    }\n",
       "\n",
       "    .dataframe tbody tr th {\n",
       "        vertical-align: top;\n",
       "    }\n",
       "\n",
       "    .dataframe thead th {\n",
       "        text-align: right;\n",
       "    }\n",
       "</style>\n",
       "<table border=\"1\" class=\"dataframe\">\n",
       "  <thead>\n",
       "    <tr style=\"text-align: right;\">\n",
       "      <th></th>\n",
       "      <th>id</th>\n",
       "      <th>name</th>\n",
       "      <th>nationality</th>\n",
       "      <th>sex</th>\n",
       "      <th>dob</th>\n",
       "      <th>height</th>\n",
       "      <th>weight</th>\n",
       "      <th>sport</th>\n",
       "      <th>gold</th>\n",
       "      <th>silver</th>\n",
       "      <th>bronze</th>\n",
       "    </tr>\n",
       "  </thead>\n",
       "  <tbody>\n",
       "    <tr>\n",
       "      <th>0</th>\n",
       "      <td>736041664</td>\n",
       "      <td>A Jesus Garcia</td>\n",
       "      <td>ESP</td>\n",
       "      <td>male</td>\n",
       "      <td>10/17/69</td>\n",
       "      <td>1.72</td>\n",
       "      <td>64.0</td>\n",
       "      <td>athletics</td>\n",
       "      <td>0</td>\n",
       "      <td>0</td>\n",
       "      <td>0</td>\n",
       "    </tr>\n",
       "    <tr>\n",
       "      <th>1</th>\n",
       "      <td>532037425</td>\n",
       "      <td>A Lam Shin</td>\n",
       "      <td>KOR</td>\n",
       "      <td>female</td>\n",
       "      <td>9/23/86</td>\n",
       "      <td>1.68</td>\n",
       "      <td>56.0</td>\n",
       "      <td>fencing</td>\n",
       "      <td>0</td>\n",
       "      <td>0</td>\n",
       "      <td>0</td>\n",
       "    </tr>\n",
       "    <tr>\n",
       "      <th>2</th>\n",
       "      <td>435962603</td>\n",
       "      <td>Aaron Brown</td>\n",
       "      <td>CAN</td>\n",
       "      <td>male</td>\n",
       "      <td>5/27/92</td>\n",
       "      <td>1.98</td>\n",
       "      <td>79.0</td>\n",
       "      <td>athletics</td>\n",
       "      <td>0</td>\n",
       "      <td>0</td>\n",
       "      <td>1</td>\n",
       "    </tr>\n",
       "    <tr>\n",
       "      <th>3</th>\n",
       "      <td>521041435</td>\n",
       "      <td>Aaron Cook</td>\n",
       "      <td>MDA</td>\n",
       "      <td>male</td>\n",
       "      <td>1/2/91</td>\n",
       "      <td>1.83</td>\n",
       "      <td>80.0</td>\n",
       "      <td>taekwondo</td>\n",
       "      <td>0</td>\n",
       "      <td>0</td>\n",
       "      <td>0</td>\n",
       "    </tr>\n",
       "    <tr>\n",
       "      <th>4</th>\n",
       "      <td>33922579</td>\n",
       "      <td>Aaron Gate</td>\n",
       "      <td>NZL</td>\n",
       "      <td>male</td>\n",
       "      <td>11/26/90</td>\n",
       "      <td>1.81</td>\n",
       "      <td>71.0</td>\n",
       "      <td>cycling</td>\n",
       "      <td>0</td>\n",
       "      <td>0</td>\n",
       "      <td>0</td>\n",
       "    </tr>\n",
       "  </tbody>\n",
       "</table>\n",
       "</div>"
      ],
      "text/plain": [
       "          id            name nationality     sex       dob  height  weight  \\\n",
       "0  736041664  A Jesus Garcia         ESP    male  10/17/69    1.72    64.0   \n",
       "1  532037425      A Lam Shin         KOR  female   9/23/86    1.68    56.0   \n",
       "2  435962603     Aaron Brown         CAN    male   5/27/92    1.98    79.0   \n",
       "3  521041435      Aaron Cook         MDA    male    1/2/91    1.83    80.0   \n",
       "4   33922579      Aaron Gate         NZL    male  11/26/90    1.81    71.0   \n",
       "\n",
       "       sport  gold  silver  bronze  \n",
       "0  athletics     0       0       0  \n",
       "1    fencing     0       0       0  \n",
       "2  athletics     0       0       1  \n",
       "3  taekwondo     0       0       0  \n",
       "4    cycling     0       0       0  "
      ]
     },
     "execution_count": 2,
     "metadata": {},
     "output_type": "execute_result"
    }
   ],
   "source": [
    "df = pd.read_csv('athletes.csv')\n",
    "df.head()"
   ]
  },
  {
   "cell_type": "markdown",
   "id": "9b09d089",
   "metadata": {},
   "source": [
    "### 1. Преобразуйте данные:\n",
    "a. проверьте наличие пропущенных значений. Преобразуйте/удалите пропуски по необходимости;\n",
    "\n"
   ]
  },
  {
   "cell_type": "code",
   "execution_count": 3,
   "id": "ac3bb8a9",
   "metadata": {},
   "outputs": [
    {
     "name": "stdout",
     "output_type": "stream",
     "text": [
      "<class 'pandas.core.frame.DataFrame'>\n",
      "RangeIndex: 11538 entries, 0 to 11537\n",
      "Data columns (total 11 columns):\n",
      " #   Column       Non-Null Count  Dtype  \n",
      "---  ------       --------------  -----  \n",
      " 0   id           11538 non-null  int64  \n",
      " 1   name         11538 non-null  object \n",
      " 2   nationality  11538 non-null  object \n",
      " 3   sex          11538 non-null  object \n",
      " 4   dob          11537 non-null  object \n",
      " 5   height       11208 non-null  float64\n",
      " 6   weight       10879 non-null  float64\n",
      " 7   sport        11538 non-null  object \n",
      " 8   gold         11538 non-null  int64  \n",
      " 9   silver       11538 non-null  int64  \n",
      " 10  bronze       11538 non-null  int64  \n",
      "dtypes: float64(2), int64(4), object(5)\n",
      "memory usage: 991.7+ KB\n"
     ]
    }
   ],
   "source": [
    "df.info()"
   ]
  },
  {
   "cell_type": "code",
   "execution_count": 4,
   "id": "3621fd86",
   "metadata": {},
   "outputs": [
    {
     "data": {
      "text/html": [
       "<div>\n",
       "<style scoped>\n",
       "    .dataframe tbody tr th:only-of-type {\n",
       "        vertical-align: middle;\n",
       "    }\n",
       "\n",
       "    .dataframe tbody tr th {\n",
       "        vertical-align: top;\n",
       "    }\n",
       "\n",
       "    .dataframe thead th {\n",
       "        text-align: right;\n",
       "    }\n",
       "</style>\n",
       "<table border=\"1\" class=\"dataframe\">\n",
       "  <thead>\n",
       "    <tr style=\"text-align: right;\">\n",
       "      <th></th>\n",
       "      <th>id</th>\n",
       "      <th>name</th>\n",
       "      <th>nationality</th>\n",
       "      <th>sex</th>\n",
       "      <th>dob</th>\n",
       "      <th>height</th>\n",
       "      <th>weight</th>\n",
       "      <th>sport</th>\n",
       "      <th>gold</th>\n",
       "      <th>silver</th>\n",
       "      <th>bronze</th>\n",
       "    </tr>\n",
       "  </thead>\n",
       "  <tbody>\n",
       "    <tr>\n",
       "      <th>8546</th>\n",
       "      <td>663676373</td>\n",
       "      <td>Pavel Sozykin</td>\n",
       "      <td>RUS</td>\n",
       "      <td>male</td>\n",
       "      <td>NaN</td>\n",
       "      <td>NaN</td>\n",
       "      <td>NaN</td>\n",
       "      <td>sailing</td>\n",
       "      <td>0</td>\n",
       "      <td>0</td>\n",
       "      <td>0</td>\n",
       "    </tr>\n",
       "  </tbody>\n",
       "</table>\n",
       "</div>"
      ],
      "text/plain": [
       "             id           name nationality   sex  dob  height  weight  \\\n",
       "8546  663676373  Pavel Sozykin         RUS  male  NaN     NaN     NaN   \n",
       "\n",
       "        sport  gold  silver  bronze  \n",
       "8546  sailing     0       0       0  "
      ]
     },
     "execution_count": 4,
     "metadata": {},
     "output_type": "execute_result"
    }
   ],
   "source": [
    "# Смортим пропуски.\n",
    "df[df['dob'].isna()]"
   ]
  },
  {
   "cell_type": "code",
   "execution_count": 5,
   "id": "48576d9d",
   "metadata": {},
   "outputs": [],
   "source": [
    "# Значение всего одно и мы не сможем адекватно его аменить, так что удаляем.\n",
    "df = df[~df['dob'].isna()]"
   ]
  },
  {
   "cell_type": "code",
   "execution_count": 6,
   "id": "e433a892",
   "metadata": {},
   "outputs": [
    {
     "name": "stdout",
     "output_type": "stream",
     "text": [
      "1.8\n",
      "1.7662821199143461\n",
      "1.76\n",
      "0.11271869117624643\n",
      "1.80    580\n",
      "1.70    579\n",
      "1.75    484\n",
      "1.78    453\n",
      "1.73    424\n",
      "Name: height, dtype: int64\n"
     ]
    }
   ],
   "source": [
    "# Смотрим оновные показатели роста\n",
    "print(df['height'].mode()[0])\n",
    "print(df['height'].mean())\n",
    "print(df['height'].median())\n",
    "print(np.std(df['height'], ddof=1))\n",
    "print(df['height'].value_counts().head(5))"
   ]
  },
  {
   "cell_type": "code",
   "execution_count": 7,
   "id": "ceb557fa",
   "metadata": {},
   "outputs": [],
   "source": [
    "# и заменим медианой.\n",
    "df['height'] = df['height'].fillna(df['height'].median())"
   ]
  },
  {
   "cell_type": "code",
   "execution_count": 8,
   "id": "b9f9d3cc",
   "metadata": {},
   "outputs": [
    {
     "name": "stdout",
     "output_type": "stream",
     "text": [
      "70.0\n",
      "72.06820479823513\n",
      "70.0\n",
      "16.17733414697665\n",
      "70.0    482\n",
      "60.0    387\n",
      "65.0    382\n",
      "75.0    342\n",
      "58.0    336\n",
      "Name: weight, dtype: int64\n"
     ]
    }
   ],
   "source": [
    "# тоже сделаем с весом, но их пропусков намного больше\n",
    "print(df['weight'].mode()[0])\n",
    "print(df['weight'].mean())\n",
    "print(df['weight'].median())\n",
    "print(np.std(df['weight'], ddof=1))\n",
    "print(df['weight'].value_counts().head(5))"
   ]
  },
  {
   "cell_type": "code",
   "execution_count": 9,
   "id": "96c6a783",
   "metadata": {},
   "outputs": [],
   "source": [
    "df['weight'] = df['weight'].fillna(df['weight'].median())"
   ]
  },
  {
   "cell_type": "code",
   "execution_count": 10,
   "id": "d76a191c",
   "metadata": {},
   "outputs": [
    {
     "name": "stdout",
     "output_type": "stream",
     "text": [
      "70.0\n",
      "71.95024703129063\n",
      "70.0\n",
      "15.71651340145976\n",
      "70.0    1140\n",
      "60.0     387\n",
      "65.0     382\n",
      "75.0     342\n",
      "58.0     336\n",
      "Name: weight, dtype: int64\n"
     ]
    }
   ],
   "source": [
    "print(df['weight'].mode()[0])\n",
    "print(df['weight'].mean())\n",
    "print(df['weight'].median())\n",
    "print(np.std(df['weight'], ddof=1))\n",
    "print(df['weight'].value_counts().head(5))"
   ]
  },
  {
   "cell_type": "markdown",
   "id": "428f3833",
   "metadata": {},
   "source": [
    "b. закодируйте категориальные переменные числовыми значениями по необходимости."
   ]
  },
  {
   "cell_type": "code",
   "execution_count": 11,
   "id": "df65e3a3",
   "metadata": {
    "scrolled": false
   },
   "outputs": [
    {
     "data": {
      "text/plain": [
       "array(['ESP', 'KOR', 'CAN', 'MDA', 'NZL', 'AUS', 'USA', 'ETH', 'BRN',\n",
       "       'IOA', 'GBR', 'UZB', 'RSA', 'EGY', 'MAR', 'QAT', 'SUD', 'ALG',\n",
       "       'DEN', 'NED', 'DJI', 'SEN', 'CMR', 'ITA', 'NIG', 'SWE', 'GHA',\n",
       "       'AFG', 'AZE', 'KSA', 'BAN', 'NGR', 'RUS', 'IND', 'HUN', 'KAZ',\n",
       "       'BDI', 'ERI', 'POL', 'BRA', 'GEO', 'CZE', 'SEY', 'GAM', 'LTU',\n",
       "       'IRI', 'ROU', 'CUB', 'SLO', 'BAH', 'ARG', 'PUR', 'FRA', 'RWA',\n",
       "       'TOG', 'MDV', 'TUN', 'ISR', 'LAT', 'JOR', 'MAS', 'LIB', 'LBA',\n",
       "       'PLE', 'IRQ', 'TUR', 'VEN', 'JPN', 'TPE', 'KGZ', 'CHN', 'MEX',\n",
       "       'GRE', 'IRL', 'JAM', 'SUI', 'BAR', 'HON', 'ANG', 'GER', 'COL',\n",
       "       'URU', 'MNE', 'SRB', 'BUL', 'FIN', 'UKR', 'BLR', 'SMR', 'COK',\n",
       "       'SAM', 'AUT', 'BEL', 'KEN', 'SVK', 'POR', 'ECU', 'UAE', 'NAM',\n",
       "       'GUY', 'EST', 'SKN', 'ARU', 'PAN', 'PER', 'TAN', 'FIJ', 'GUI',\n",
       "       'NOR', 'ARM', 'THA', 'SIN', 'TKM', 'CRO', 'BIH', 'TGA', 'MAW',\n",
       "       'DOM', 'GUA', 'MKD', 'TJK', 'CYP', 'CHI', 'MLT', 'ZIM', 'TTO',\n",
       "       'CRC', 'BOL', 'BUR', 'ISL', 'HAI', 'ROT', 'MGL', 'MAD', 'GAB',\n",
       "       'SRI', 'LAO', 'MRI', 'PAR', 'IVB', 'GBS', 'TLS', 'MLI', 'SYR',\n",
       "       'BOT', 'CHA', 'OMA', 'COD', 'CIV', 'GEQ', 'UGA', 'GUM', 'ASA',\n",
       "       'ZAM', 'VAN', 'GRN', 'BIZ', 'VIN', 'MON', 'ALB', 'STP', 'SLE',\n",
       "       'BER', 'HKG', 'ISV', 'CGO', 'ANT', 'BEN', 'LUX', 'PHI', 'CAF',\n",
       "       'PRK', 'LIE', 'MHL', 'NCA', 'KIR', 'CPV', 'INA', 'FSM', 'COM',\n",
       "       'PLW', 'MYA', 'NRU', 'LBR', 'ESA', 'AND', 'TUV', 'SUR', 'CAY',\n",
       "       'NEP', 'PAK', 'SSD', 'MTN', 'VIE', 'MOZ', 'LES', 'LCA', 'BRU',\n",
       "       'SOL', 'BHU', 'CAM', 'KOS', 'SOM', 'PNG', 'YEM', 'SWZ', 'DMA'],\n",
       "      dtype=object)"
      ]
     },
     "execution_count": 11,
     "metadata": {},
     "output_type": "execute_result"
    }
   ],
   "source": [
    "# очень большое количество стран участников. Уберем их\n",
    "df.nationality.unique()"
   ]
  },
  {
   "cell_type": "code",
   "execution_count": 12,
   "id": "180ce15a",
   "metadata": {},
   "outputs": [
    {
     "data": {
      "text/plain": [
       "array(['athletics', 'fencing', 'taekwondo', 'cycling', 'triathlon',\n",
       "       'volleyball', 'aquatics', 'rugby sevens', 'wrestling', 'football',\n",
       "       'shooting', 'boxing', 'equestrian', 'rowing', 'judo', 'handball',\n",
       "       'badminton', 'hockey', 'modern pentathlon', 'table tennis',\n",
       "       'canoe', 'basketball', 'golf', 'archery', 'weightlifting',\n",
       "       'sailing', 'tennis', 'gymnastics'], dtype=object)"
      ]
     },
     "execution_count": 12,
     "metadata": {},
     "output_type": "execute_result"
    }
   ],
   "source": [
    "df.sport.unique()"
   ]
  },
  {
   "cell_type": "code",
   "execution_count": 13,
   "id": "dd058c8a",
   "metadata": {
    "scrolled": true
   },
   "outputs": [],
   "source": [
    "df = pd.get_dummies(df, columns=['sport'])"
   ]
  },
  {
   "cell_type": "code",
   "execution_count": 14,
   "id": "3e24d655",
   "metadata": {},
   "outputs": [
    {
     "data": {
      "text/plain": [
       "array(['female', 'male'], dtype=object)"
      ]
     },
     "execution_count": 14,
     "metadata": {},
     "output_type": "execute_result"
    }
   ],
   "source": [
    "from sklearn.preprocessing import LabelEncoder\n",
    "le = LabelEncoder()\n",
    "le.fit(df['sex'])\n",
    "le.classes_"
   ]
  },
  {
   "cell_type": "code",
   "execution_count": 15,
   "id": "bbffcc60",
   "metadata": {},
   "outputs": [],
   "source": [
    "df['income'] = pd.Series(data=le.transform(df['sex']))"
   ]
  },
  {
   "cell_type": "code",
   "execution_count": 16,
   "id": "c2195175",
   "metadata": {},
   "outputs": [
    {
     "data": {
      "text/plain": [
       "0        1.0\n",
       "1        0.0\n",
       "2        1.0\n",
       "3        1.0\n",
       "4        1.0\n",
       "        ... \n",
       "11533    0.0\n",
       "11534    1.0\n",
       "11535    1.0\n",
       "11536    1.0\n",
       "11537    1.0\n",
       "Name: income, Length: 11537, dtype: float64"
      ]
     },
     "execution_count": 16,
     "metadata": {},
     "output_type": "execute_result"
    }
   ],
   "source": [
    "df['income'].fillna(1)"
   ]
  },
  {
   "cell_type": "code",
   "execution_count": 17,
   "id": "90aeac52",
   "metadata": {},
   "outputs": [],
   "source": [
    "df.drop(columns=['id', 'name', 'dob', 'sex', 'nationality'], inplace=True)"
   ]
  },
  {
   "cell_type": "code",
   "execution_count": 18,
   "id": "a2754a7f",
   "metadata": {},
   "outputs": [],
   "source": [
    "df.dropna(inplace=True)"
   ]
  },
  {
   "cell_type": "code",
   "execution_count": 19,
   "id": "497541f6",
   "metadata": {},
   "outputs": [
    {
     "name": "stdout",
     "output_type": "stream",
     "text": [
      "<class 'pandas.core.frame.DataFrame'>\n",
      "Int64Index: 11536 entries, 0 to 11536\n",
      "Data columns (total 34 columns):\n",
      " #   Column                   Non-Null Count  Dtype  \n",
      "---  ------                   --------------  -----  \n",
      " 0   height                   11536 non-null  float64\n",
      " 1   weight                   11536 non-null  float64\n",
      " 2   gold                     11536 non-null  int64  \n",
      " 3   silver                   11536 non-null  int64  \n",
      " 4   bronze                   11536 non-null  int64  \n",
      " 5   sport_aquatics           11536 non-null  uint8  \n",
      " 6   sport_archery            11536 non-null  uint8  \n",
      " 7   sport_athletics          11536 non-null  uint8  \n",
      " 8   sport_badminton          11536 non-null  uint8  \n",
      " 9   sport_basketball         11536 non-null  uint8  \n",
      " 10  sport_boxing             11536 non-null  uint8  \n",
      " 11  sport_canoe              11536 non-null  uint8  \n",
      " 12  sport_cycling            11536 non-null  uint8  \n",
      " 13  sport_equestrian         11536 non-null  uint8  \n",
      " 14  sport_fencing            11536 non-null  uint8  \n",
      " 15  sport_football           11536 non-null  uint8  \n",
      " 16  sport_golf               11536 non-null  uint8  \n",
      " 17  sport_gymnastics         11536 non-null  uint8  \n",
      " 18  sport_handball           11536 non-null  uint8  \n",
      " 19  sport_hockey             11536 non-null  uint8  \n",
      " 20  sport_judo               11536 non-null  uint8  \n",
      " 21  sport_modern pentathlon  11536 non-null  uint8  \n",
      " 22  sport_rowing             11536 non-null  uint8  \n",
      " 23  sport_rugby sevens       11536 non-null  uint8  \n",
      " 24  sport_sailing            11536 non-null  uint8  \n",
      " 25  sport_shooting           11536 non-null  uint8  \n",
      " 26  sport_table tennis       11536 non-null  uint8  \n",
      " 27  sport_taekwondo          11536 non-null  uint8  \n",
      " 28  sport_tennis             11536 non-null  uint8  \n",
      " 29  sport_triathlon          11536 non-null  uint8  \n",
      " 30  sport_volleyball         11536 non-null  uint8  \n",
      " 31  sport_weightlifting      11536 non-null  uint8  \n",
      " 32  sport_wrestling          11536 non-null  uint8  \n",
      " 33  income                   11536 non-null  float64\n",
      "dtypes: float64(3), int64(3), uint8(28)\n",
      "memory usage: 946.3 KB\n"
     ]
    }
   ],
   "source": [
    "df.info()"
   ]
  },
  {
   "cell_type": "markdown",
   "id": "1d71e5a2",
   "metadata": {},
   "source": [
    "### 2. Разделите выборку на обучающее (80% данных) и тестовое (20% данных) подмножества."
   ]
  },
  {
   "cell_type": "code",
   "execution_count": 20,
   "id": "a69220f3",
   "metadata": {},
   "outputs": [],
   "source": [
    "# Задаем Х и у\n",
    "X = df.drop(columns='income')\n",
    "y = df['income']"
   ]
  },
  {
   "cell_type": "code",
   "execution_count": 21,
   "id": "ebf0d971",
   "metadata": {},
   "outputs": [],
   "source": [
    "# Разделим выборку\n",
    "X_train, X_test, y_train, y_test = train_test_split(X, y, test_size=0.2, random_state=42)"
   ]
  },
  {
   "cell_type": "markdown",
   "id": "ec2a8f0d",
   "metadata": {},
   "source": [
    "### 3. Постройте ROC-кривую с помощью функции sklearn.metrics. roc_curve."
   ]
  },
  {
   "cell_type": "code",
   "execution_count": 22,
   "id": "fa49d421",
   "metadata": {},
   "outputs": [
    {
     "name": "stderr",
     "output_type": "stream",
     "text": [
      "D:\\DataSci\\anaconda3\\lib\\site-packages\\sklearn\\linear_model\\_logistic.py:763: ConvergenceWarning: lbfgs failed to converge (status=1):\n",
      "STOP: TOTAL NO. of ITERATIONS REACHED LIMIT.\n",
      "\n",
      "Increase the number of iterations (max_iter) or scale the data as shown in:\n",
      "    https://scikit-learn.org/stable/modules/preprocessing.html\n",
      "Please also refer to the documentation for alternative solver options:\n",
      "    https://scikit-learn.org/stable/modules/linear_model.html#logistic-regression\n",
      "  n_iter_i = _check_optimize_result(\n"
     ]
    },
    {
     "data": {
      "text/plain": [
       "LogisticRegression()"
      ]
     },
     "execution_count": 22,
     "metadata": {},
     "output_type": "execute_result"
    }
   ],
   "source": [
    "# Обучим модель\n",
    "model = LogisticRegression()\n",
    "model.fit(X_train, y_train)"
   ]
  },
  {
   "cell_type": "code",
   "execution_count": 23,
   "id": "edc5a174",
   "metadata": {},
   "outputs": [],
   "source": [
    "predictions = model.predict_proba(X_test)\n",
    "fpr, tpr, thres = roc_curve(y_test, predictions[:, 1])"
   ]
  },
  {
   "cell_type": "code",
   "execution_count": 111,
   "id": "ec1d1e4c",
   "metadata": {
    "scrolled": true
   },
   "outputs": [
    {
     "data": {
      "image/png": "[encoded data removed]",
      "text/plain": [
       "<Figure size 936x576 with 1 Axes>"
      ]
     },
     "metadata": {
      "needs_background": "light"
     },
     "output_type": "display_data"
    }
   ],
   "source": [
    "plt.plot([0, 1], [0, 1], c='m', linewidth= 4)\n",
    "plt.plot(fpr, tpr, linewidth= 2)\n",
    "\n",
    "plt.title('ROC', fontsize=18)\n",
    "plt.xlabel('FPR - false positive rate', fontsize=15)\n",
    "plt.ylabel('TPR - true positive rate', fontsize=15)\n",
    "plt.grid()\n",
    "\n",
    "plt.show()"
   ]
  },
  {
   "cell_type": "markdown",
   "id": "145cf1b3",
   "metadata": {},
   "source": [
    "### 4. Вычислите значение ROC-AUC метрики с помощью функции sklearn.metrics.roc_auc_score.\n"
   ]
  },
  {
   "cell_type": "code",
   "execution_count": 25,
   "id": "e99c4074",
   "metadata": {},
   "outputs": [
    {
     "data": {
      "text/plain": [
       "0.82856952095822"
      ]
     },
     "execution_count": 25,
     "metadata": {},
     "output_type": "execute_result"
    }
   ],
   "source": [
    "roc_auc_score(y_test, predictions[:, 1])"
   ]
  },
  {
   "cell_type": "markdown",
   "id": "2d464ae6",
   "metadata": {},
   "source": [
    "### 5. Реализуйте подсчет метрик TPR, FPR «вручную», без использования готовых функций из библиотеки sklearn.\n"
   ]
  },
  {
   "cell_type": "code",
   "execution_count": 79,
   "id": "0da24201",
   "metadata": {},
   "outputs": [],
   "source": [
    "thres_1 = np.arange(0, 1, 0.01)\n",
    "\n",
    "fpr_1 = []\n",
    "tpr_1 = []\n",
    "precision = []\n",
    "recall = []\n",
    "\n",
    "for thres in thres_1:\n",
    "    tp = 0 \n",
    "    fp = 0 \n",
    "    fn = 0 \n",
    "    tn = 0\n",
    "    for predicted, real in zip(predictions[:, 1], y_test):\n",
    "        if predicted >= thres:\n",
    "            predict = 1\n",
    "        else:\n",
    "            predict = 0\n",
    "\n",
    "        if predict == 1:\n",
    "            if real == 1:\n",
    "                tp += 1\n",
    "            else:\n",
    "                fp += 1\n",
    "\n",
    "        else:\n",
    "            if real == 1:\n",
    "                fn += 1\n",
    "            else:\n",
    "                tn += 1\n",
    "    \n",
    "    tpr_ = tp / (tp + fn)\n",
    "    fpr_ = fp / (fp + tn)\n",
    "    precis = tp / (tp + fp)\n",
    "    rec = tpr_\n",
    "    \n",
    "    tpr_1.append(tpr_)\n",
    "    fpr_1.append(fpr_)\n",
    "    precision.append(precis)\n",
    "    recall.append(rec)"
   ]
  },
  {
   "cell_type": "markdown",
   "id": "88ed35ff",
   "metadata": {},
   "source": [
    "### 6. Постройте ROC-кривую с помощью вычисленных в п. 5 метрик: объедините графики из п. 3 и п. 6 в один. Сравните, сделайте вывод.\n"
   ]
  },
  {
   "cell_type": "code",
   "execution_count": 108,
   "id": "032286cf",
   "metadata": {},
   "outputs": [
    {
     "data": {
      "image/png": "[encoded data removed]",
      "text/plain": [
       "<Figure size 936x576 with 1 Axes>"
      ]
     },
     "metadata": {
      "needs_background": "light"
     },
     "output_type": "display_data"
    }
   ],
   "source": [
    "plt.plot([0, 1], [0, 1], c='m', linewidth= 4)\n",
    "plt.plot(fpr, tpr, c='r', marker='*')\n",
    "plt.plot(fpr_1, tpr_1, c='g', marker='x')\n",
    "\n",
    "plt.title('ROC AUC', fontsize=18)\n",
    "plt.xlabel('FPR - false positive rate', fontsize=15)\n",
    "plt.ylabel('TPR - true positive rate', fontsize=15)\n",
    "plt.legend(['sklearn.metrics', 'Manual'], fontsize = 12)\n",
    "plt.grid()\n",
    "\n",
    "plt.show()"
   ]
  },
  {
   "cell_type": "markdown",
   "id": "edec4410",
   "metadata": {},
   "source": [
    "### 7. Постройте график Precision-Recall, используя метрики, посчитанные в п. 5.\n"
   ]
  },
  {
   "cell_type": "code",
   "execution_count": 82,
   "id": "f55fc0e5",
   "metadata": {},
   "outputs": [
    {
     "data": {
      "image/png": "[encoded data removed]",
      "text/plain": [
       "<Figure size 936x576 with 1 Axes>"
      ]
     },
     "metadata": {
      "needs_background": "light"
     },
     "output_type": "display_data"
    }
   ],
   "source": [
    "plt.plot(recall, precision, c='b', marker='x')\n",
    "\n",
    "plt.title('PR AUC', fontsize=18)\n",
    "plt.xlabel('Recall', fontsize=15)\n",
    "plt.ylabel('Precision', fontsize=15)\n",
    "plt.grid()\n",
    "\n",
    "plt.show()"
   ]
  },
  {
   "cell_type": "markdown",
   "id": "f2c4021d",
   "metadata": {},
   "source": [
    "### Вычислите значение ROC-AUC метрики, используя метрики, посчитанные в п. 5."
   ]
  },
  {
   "cell_type": "code",
   "execution_count": 88,
   "id": "25e2cf9d",
   "metadata": {},
   "outputs": [
    {
     "data": {
      "text/plain": [
       "0.82856952095822"
      ]
     },
     "execution_count": 88,
     "metadata": {},
     "output_type": "execute_result"
    }
   ],
   "source": [
    "roc_auc_score(y_test, predictions[:, 1])"
   ]
  },
  {
   "cell_type": "code",
   "execution_count": 96,
   "id": "01ead7ef",
   "metadata": {},
   "outputs": [
    {
     "name": "stdout",
     "output_type": "stream",
     "text": [
      "Ручной расчет ROC-AUC метрики, составил: 0.82848644223525\n"
     ]
    }
   ],
   "source": [
    "print(f'Ручной расчет ROC-AUC метрики, составил: {np.abs(np.trapz(tpr_1, fpr_1))}')"
   ]
  },
  {
   "cell_type": "markdown",
   "id": "c717a949",
   "metadata": {},
   "source": [
    "### 9. Сформулируйте выводы по проделанной работе:\n",
    "a. как по полученным графикам сделать вывод о качестве модели? Как вы оцениваете обученную модель исходя из подсчитанных метрик?\n",
    "\n"
   ]
  },
  {
   "cell_type": "markdown",
   "id": "c64bfa1f",
   "metadata": {},
   "source": [
    "Чем ROC кривая выше диагонали (0;0),(1;1) и \"горб\" стремится к точке (0;1), тем модель лучше.\n",
    "Модель неплохая, но видимо нужно было поиграть с признаками в X, чтобы было меньше шума."
   ]
  },
  {
   "cell_type": "markdown",
   "id": "a52c20a0",
   "metadata": {},
   "source": [
    "b. *может ли ROC-кривая проходить ниже диагонали?"
   ]
  },
  {
   "cell_type": "markdown",
   "id": "31bc4963",
   "metadata": {},
   "source": [
    "Нет, не может"
   ]
  }
 ],
 "metadata": {
  "kernelspec": {
   "display_name": "Python 3 (ipykernel)",
   "language": "python",
   "name": "python3"
  },
  "language_info": {
   "codemirror_mode": {
    "name": "ipython",
    "version": 3
   },
   "file_extension": ".py",
   "mimetype": "text/x-python",
   "name": "python",
   "nbconvert_exporter": "python",
   "pygments_lexer": "ipython3",
   "version": "3.9.7"
  }
 },
 "nbformat": 4,
 "nbformat_minor": 5
}
